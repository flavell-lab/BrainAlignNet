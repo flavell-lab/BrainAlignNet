{
 "cells": [
  {
   "cell_type": "markdown",
   "id": "006e54e8-93a0-43b3-88f0-4afb20ab3ef2",
   "metadata": {},
   "source": [
    "note: this notebook should be run under the same directory as `scripts`"
   ]
  },
  {
   "cell_type": "markdown",
   "id": "4377a72f-21ea-4588-810a-5a1511e888fb",
   "metadata": {},
   "source": [
    "### Euler registeration on RFP images"
   ]
  },
  {
   "cell_type": "code",
   "execution_count": 1,
   "id": "8568b0d8-dae2-4ae1-882c-878432093447",
   "metadata": {},
   "outputs": [],
   "source": [
    "from euler_register import EulerRegistrationProcessor"
   ]
  },
  {
   "cell_type": "code",
   "execution_count": 2,
   "id": "16a24162-c489-4f50-be32-fbf5d71a7b23",
   "metadata": {},
   "outputs": [],
   "source": [
    "target_image_shape = (284, 120, 64)\n",
    "save_directory = \"/scratch/nar8991/computer_vision/output/demo/euler_registered_RFP\"\n",
    "problem_file = \"/scratch/nar8991/computer_vision/BrainAlignNet/scripts/data_preparation/resources/registration_problems_demo.json\""
   ]
  },
  {
   "cell_type": "code",
   "execution_count": 3,
   "id": "453333ee-ce83-4f83-b7df-1139a19b4fc5",
   "metadata": {},
   "outputs": [
    {
     "data": {
      "text/plain": [
       "1"
      ]
     },
     "execution_count": 3,
     "metadata": {},
     "output_type": "execute_result"
    }
   ],
   "source": [
    "import torch\n",
    "torch.cuda.device_count()"
   ]
  },
  {
   "cell_type": "code",
   "execution_count": 4,
   "id": "fa8e0e79-7fd7-42bf-a79c-b699681f3750",
   "metadata": {},
   "outputs": [
    {
     "name": "stdout",
     "output_type": "stream",
     "text": [
      "=====Processing 2022-01-17-01 in train=====\n"
     ]
    },
    {
     "name": "stderr",
     "output_type": "stream",
     "text": [
      "  0%|          | 0/96 [00:00<?, ?it/s]/ext3/miniforge3/lib/python3.10/site-packages/euler_gpu/gncc.py:50: RuntimeWarning: invalid value encountered in scalar divide\n",
      "  return a / b\n",
      "  1%|          | 1/96 [00:04<07:52,  4.98s/it]"
     ]
    },
    {
     "name": "stdout",
     "output_type": "stream",
     "text": [
      "eulergpu_outcomes_demo written under resources.\n",
      "center_of_mass_demo written under resources.\n",
      "euler_parameters_demo written under resources.\n"
     ]
    },
    {
     "name": "stderr",
     "output_type": "stream",
     "text": [
      "  2%|▏         | 2/96 [00:07<05:06,  3.26s/it]"
     ]
    },
    {
     "name": "stdout",
     "output_type": "stream",
     "text": [
      "eulergpu_outcomes_demo written under resources.\n",
      "center_of_mass_demo written under resources.\n",
      "euler_parameters_demo written under resources.\n"
     ]
    },
    {
     "name": "stderr",
     "output_type": "stream",
     "text": [
      "  3%|▎         | 3/96 [00:09<04:12,  2.72s/it]"
     ]
    },
    {
     "name": "stdout",
     "output_type": "stream",
     "text": [
      "eulergpu_outcomes_demo written under resources.\n",
      "center_of_mass_demo written under resources.\n",
      "euler_parameters_demo written under resources.\n"
     ]
    },
    {
     "name": "stderr",
     "output_type": "stream",
     "text": [
      "  4%|▍         | 4/96 [00:11<03:48,  2.49s/it]"
     ]
    },
    {
     "name": "stdout",
     "output_type": "stream",
     "text": [
      "eulergpu_outcomes_demo written under resources.\n",
      "center_of_mass_demo written under resources.\n",
      "euler_parameters_demo written under resources.\n"
     ]
    },
    {
     "name": "stderr",
     "output_type": "stream",
     "text": [
      "  5%|▌         | 5/96 [00:13<03:33,  2.35s/it]"
     ]
    },
    {
     "name": "stdout",
     "output_type": "stream",
     "text": [
      "eulergpu_outcomes_demo written under resources.\n",
      "center_of_mass_demo written under resources.\n",
      "euler_parameters_demo written under resources.\n"
     ]
    },
    {
     "name": "stderr",
     "output_type": "stream",
     "text": [
      "  6%|▋         | 6/96 [00:15<03:23,  2.27s/it]"
     ]
    },
    {
     "name": "stdout",
     "output_type": "stream",
     "text": [
      "eulergpu_outcomes_demo written under resources.\n",
      "center_of_mass_demo written under resources.\n",
      "euler_parameters_demo written under resources.\n"
     ]
    },
    {
     "name": "stderr",
     "output_type": "stream",
     "text": [
      "  7%|▋         | 7/96 [00:17<03:15,  2.19s/it]"
     ]
    },
    {
     "name": "stdout",
     "output_type": "stream",
     "text": [
      "eulergpu_outcomes_demo written under resources.\n",
      "center_of_mass_demo written under resources.\n",
      "euler_parameters_demo written under resources.\n"
     ]
    },
    {
     "name": "stderr",
     "output_type": "stream",
     "text": [
      "  8%|▊         | 8/96 [00:19<03:10,  2.16s/it]"
     ]
    },
    {
     "name": "stdout",
     "output_type": "stream",
     "text": [
      "eulergpu_outcomes_demo written under resources.\n",
      "center_of_mass_demo written under resources.\n",
      "euler_parameters_demo written under resources.\n"
     ]
    },
    {
     "name": "stderr",
     "output_type": "stream",
     "text": [
      "  9%|▉         | 9/96 [00:21<03:06,  2.14s/it]"
     ]
    },
    {
     "name": "stdout",
     "output_type": "stream",
     "text": [
      "eulergpu_outcomes_demo written under resources.\n",
      "center_of_mass_demo written under resources.\n",
      "euler_parameters_demo written under resources.\n"
     ]
    },
    {
     "name": "stderr",
     "output_type": "stream",
     "text": [
      " 10%|█         | 10/96 [00:23<03:07,  2.18s/it]"
     ]
    },
    {
     "name": "stdout",
     "output_type": "stream",
     "text": [
      "eulergpu_outcomes_demo written under resources.\n",
      "center_of_mass_demo written under resources.\n",
      "euler_parameters_demo written under resources.\n"
     ]
    },
    {
     "name": "stderr",
     "output_type": "stream",
     "text": [
      " 11%|█▏        | 11/96 [00:26<03:02,  2.14s/it]"
     ]
    },
    {
     "name": "stdout",
     "output_type": "stream",
     "text": [
      "eulergpu_outcomes_demo written under resources.\n",
      "center_of_mass_demo written under resources.\n",
      "euler_parameters_demo written under resources.\n"
     ]
    },
    {
     "name": "stderr",
     "output_type": "stream",
     "text": [
      " 12%|█▎        | 12/96 [00:28<03:02,  2.17s/it]"
     ]
    },
    {
     "name": "stdout",
     "output_type": "stream",
     "text": [
      "eulergpu_outcomes_demo written under resources.\n",
      "center_of_mass_demo written under resources.\n",
      "euler_parameters_demo written under resources.\n"
     ]
    },
    {
     "name": "stderr",
     "output_type": "stream",
     "text": [
      " 14%|█▎        | 13/96 [00:30<02:57,  2.14s/it]"
     ]
    },
    {
     "name": "stdout",
     "output_type": "stream",
     "text": [
      "eulergpu_outcomes_demo written under resources.\n",
      "center_of_mass_demo written under resources.\n",
      "euler_parameters_demo written under resources.\n"
     ]
    },
    {
     "name": "stderr",
     "output_type": "stream",
     "text": [
      " 15%|█▍        | 14/96 [00:32<02:54,  2.12s/it]"
     ]
    },
    {
     "name": "stdout",
     "output_type": "stream",
     "text": [
      "eulergpu_outcomes_demo written under resources.\n",
      "center_of_mass_demo written under resources.\n",
      "euler_parameters_demo written under resources.\n"
     ]
    },
    {
     "name": "stderr",
     "output_type": "stream",
     "text": [
      " 16%|█▌        | 15/96 [00:34<02:50,  2.11s/it]"
     ]
    },
    {
     "name": "stdout",
     "output_type": "stream",
     "text": [
      "eulergpu_outcomes_demo written under resources.\n",
      "center_of_mass_demo written under resources.\n",
      "euler_parameters_demo written under resources.\n"
     ]
    },
    {
     "name": "stderr",
     "output_type": "stream",
     "text": [
      " 17%|█▋        | 16/96 [00:36<02:48,  2.10s/it]"
     ]
    },
    {
     "name": "stdout",
     "output_type": "stream",
     "text": [
      "eulergpu_outcomes_demo written under resources.\n",
      "center_of_mass_demo written under resources.\n",
      "euler_parameters_demo written under resources.\n"
     ]
    },
    {
     "name": "stderr",
     "output_type": "stream",
     "text": [
      " 18%|█▊        | 17/96 [00:38<02:44,  2.08s/it]"
     ]
    },
    {
     "name": "stdout",
     "output_type": "stream",
     "text": [
      "eulergpu_outcomes_demo written under resources.\n",
      "center_of_mass_demo written under resources.\n",
      "euler_parameters_demo written under resources.\n"
     ]
    },
    {
     "name": "stderr",
     "output_type": "stream",
     "text": [
      " 19%|█▉        | 18/96 [00:40<02:40,  2.06s/it]"
     ]
    },
    {
     "name": "stdout",
     "output_type": "stream",
     "text": [
      "eulergpu_outcomes_demo written under resources.\n",
      "center_of_mass_demo written under resources.\n",
      "euler_parameters_demo written under resources.\n"
     ]
    },
    {
     "name": "stderr",
     "output_type": "stream",
     "text": [
      " 20%|█▉        | 19/96 [00:42<02:38,  2.06s/it]"
     ]
    },
    {
     "name": "stdout",
     "output_type": "stream",
     "text": [
      "eulergpu_outcomes_demo written under resources.\n",
      "center_of_mass_demo written under resources.\n",
      "euler_parameters_demo written under resources.\n"
     ]
    },
    {
     "name": "stderr",
     "output_type": "stream",
     "text": [
      " 21%|██        | 20/96 [00:44<02:36,  2.06s/it]"
     ]
    },
    {
     "name": "stdout",
     "output_type": "stream",
     "text": [
      "eulergpu_outcomes_demo written under resources.\n",
      "center_of_mass_demo written under resources.\n",
      "euler_parameters_demo written under resources.\n"
     ]
    },
    {
     "name": "stderr",
     "output_type": "stream",
     "text": [
      " 22%|██▏       | 21/96 [00:46<02:35,  2.07s/it]"
     ]
    },
    {
     "name": "stdout",
     "output_type": "stream",
     "text": [
      "eulergpu_outcomes_demo written under resources.\n",
      "center_of_mass_demo written under resources.\n",
      "euler_parameters_demo written under resources.\n"
     ]
    },
    {
     "name": "stderr",
     "output_type": "stream",
     "text": [
      " 23%|██▎       | 22/96 [00:48<02:33,  2.08s/it]"
     ]
    },
    {
     "name": "stdout",
     "output_type": "stream",
     "text": [
      "eulergpu_outcomes_demo written under resources.\n",
      "center_of_mass_demo written under resources.\n",
      "euler_parameters_demo written under resources.\n"
     ]
    },
    {
     "name": "stderr",
     "output_type": "stream",
     "text": [
      " 24%|██▍       | 23/96 [00:51<02:34,  2.11s/it]"
     ]
    },
    {
     "name": "stdout",
     "output_type": "stream",
     "text": [
      "eulergpu_outcomes_demo written under resources.\n",
      "center_of_mass_demo written under resources.\n",
      "euler_parameters_demo written under resources.\n"
     ]
    },
    {
     "name": "stderr",
     "output_type": "stream",
     "text": [
      " 25%|██▌       | 24/96 [00:53<02:31,  2.10s/it]"
     ]
    },
    {
     "name": "stdout",
     "output_type": "stream",
     "text": [
      "eulergpu_outcomes_demo written under resources.\n",
      "center_of_mass_demo written under resources.\n",
      "euler_parameters_demo written under resources.\n"
     ]
    },
    {
     "name": "stderr",
     "output_type": "stream",
     "text": [
      " 26%|██▌       | 25/96 [00:55<02:28,  2.09s/it]"
     ]
    },
    {
     "name": "stdout",
     "output_type": "stream",
     "text": [
      "eulergpu_outcomes_demo written under resources.\n",
      "center_of_mass_demo written under resources.\n",
      "euler_parameters_demo written under resources.\n"
     ]
    },
    {
     "name": "stderr",
     "output_type": "stream",
     "text": [
      " 27%|██▋       | 26/96 [00:57<02:25,  2.08s/it]"
     ]
    },
    {
     "name": "stdout",
     "output_type": "stream",
     "text": [
      "eulergpu_outcomes_demo written under resources.\n",
      "center_of_mass_demo written under resources.\n",
      "euler_parameters_demo written under resources.\n"
     ]
    },
    {
     "name": "stderr",
     "output_type": "stream",
     "text": [
      " 28%|██▊       | 27/96 [00:59<02:25,  2.11s/it]"
     ]
    },
    {
     "name": "stdout",
     "output_type": "stream",
     "text": [
      "eulergpu_outcomes_demo written under resources.\n",
      "center_of_mass_demo written under resources.\n",
      "euler_parameters_demo written under resources.\n"
     ]
    },
    {
     "name": "stderr",
     "output_type": "stream",
     "text": [
      " 29%|██▉       | 28/96 [01:01<02:23,  2.11s/it]"
     ]
    },
    {
     "name": "stdout",
     "output_type": "stream",
     "text": [
      "eulergpu_outcomes_demo written under resources.\n",
      "center_of_mass_demo written under resources.\n",
      "euler_parameters_demo written under resources.\n"
     ]
    },
    {
     "name": "stderr",
     "output_type": "stream",
     "text": [
      " 30%|███       | 29/96 [01:03<02:20,  2.09s/it]"
     ]
    },
    {
     "name": "stdout",
     "output_type": "stream",
     "text": [
      "eulergpu_outcomes_demo written under resources.\n",
      "center_of_mass_demo written under resources.\n",
      "euler_parameters_demo written under resources.\n"
     ]
    },
    {
     "name": "stderr",
     "output_type": "stream",
     "text": [
      " 31%|███▏      | 30/96 [01:05<02:19,  2.11s/it]"
     ]
    },
    {
     "name": "stdout",
     "output_type": "stream",
     "text": [
      "eulergpu_outcomes_demo written under resources.\n",
      "center_of_mass_demo written under resources.\n",
      "euler_parameters_demo written under resources.\n"
     ]
    },
    {
     "name": "stderr",
     "output_type": "stream",
     "text": [
      " 32%|███▏      | 31/96 [01:07<02:16,  2.10s/it]"
     ]
    },
    {
     "name": "stdout",
     "output_type": "stream",
     "text": [
      "eulergpu_outcomes_demo written under resources.\n",
      "center_of_mass_demo written under resources.\n",
      "euler_parameters_demo written under resources.\n"
     ]
    },
    {
     "name": "stderr",
     "output_type": "stream",
     "text": [
      " 33%|███▎      | 32/96 [01:10<02:15,  2.12s/it]"
     ]
    },
    {
     "name": "stdout",
     "output_type": "stream",
     "text": [
      "eulergpu_outcomes_demo written under resources.\n",
      "center_of_mass_demo written under resources.\n",
      "euler_parameters_demo written under resources.\n"
     ]
    },
    {
     "name": "stderr",
     "output_type": "stream",
     "text": [
      " 34%|███▍      | 33/96 [01:12<02:13,  2.11s/it]"
     ]
    },
    {
     "name": "stdout",
     "output_type": "stream",
     "text": [
      "eulergpu_outcomes_demo written under resources.\n",
      "center_of_mass_demo written under resources.\n",
      "euler_parameters_demo written under resources.\n"
     ]
    },
    {
     "name": "stderr",
     "output_type": "stream",
     "text": [
      " 35%|███▌      | 34/96 [01:14<02:12,  2.13s/it]"
     ]
    },
    {
     "name": "stdout",
     "output_type": "stream",
     "text": [
      "eulergpu_outcomes_demo written under resources.\n",
      "center_of_mass_demo written under resources.\n",
      "euler_parameters_demo written under resources.\n"
     ]
    },
    {
     "name": "stderr",
     "output_type": "stream",
     "text": [
      " 36%|███▋      | 35/96 [01:16<02:08,  2.11s/it]"
     ]
    },
    {
     "name": "stdout",
     "output_type": "stream",
     "text": [
      "eulergpu_outcomes_demo written under resources.\n",
      "center_of_mass_demo written under resources.\n",
      "euler_parameters_demo written under resources.\n"
     ]
    },
    {
     "name": "stderr",
     "output_type": "stream",
     "text": [
      " 38%|███▊      | 36/96 [01:18<02:05,  2.09s/it]"
     ]
    },
    {
     "name": "stdout",
     "output_type": "stream",
     "text": [
      "eulergpu_outcomes_demo written under resources.\n",
      "center_of_mass_demo written under resources.\n",
      "euler_parameters_demo written under resources.\n"
     ]
    },
    {
     "name": "stderr",
     "output_type": "stream",
     "text": [
      " 39%|███▊      | 37/96 [01:20<02:03,  2.09s/it]"
     ]
    },
    {
     "name": "stdout",
     "output_type": "stream",
     "text": [
      "eulergpu_outcomes_demo written under resources.\n",
      "center_of_mass_demo written under resources.\n",
      "euler_parameters_demo written under resources.\n"
     ]
    },
    {
     "name": "stderr",
     "output_type": "stream",
     "text": [
      " 40%|███▉      | 38/96 [01:22<02:00,  2.08s/it]"
     ]
    },
    {
     "name": "stdout",
     "output_type": "stream",
     "text": [
      "eulergpu_outcomes_demo written under resources.\n",
      "center_of_mass_demo written under resources.\n",
      "euler_parameters_demo written under resources.\n"
     ]
    },
    {
     "name": "stderr",
     "output_type": "stream",
     "text": [
      " 41%|████      | 39/96 [01:24<01:57,  2.06s/it]"
     ]
    },
    {
     "name": "stdout",
     "output_type": "stream",
     "text": [
      "eulergpu_outcomes_demo written under resources.\n",
      "center_of_mass_demo written under resources.\n",
      "euler_parameters_demo written under resources.\n"
     ]
    },
    {
     "name": "stderr",
     "output_type": "stream",
     "text": [
      " 42%|████▏     | 40/96 [01:26<01:54,  2.05s/it]"
     ]
    },
    {
     "name": "stdout",
     "output_type": "stream",
     "text": [
      "eulergpu_outcomes_demo written under resources.\n",
      "center_of_mass_demo written under resources.\n",
      "euler_parameters_demo written under resources.\n"
     ]
    },
    {
     "name": "stderr",
     "output_type": "stream",
     "text": [
      " 43%|████▎     | 41/96 [01:28<01:52,  2.05s/it]"
     ]
    },
    {
     "name": "stdout",
     "output_type": "stream",
     "text": [
      "eulergpu_outcomes_demo written under resources.\n",
      "center_of_mass_demo written under resources.\n",
      "euler_parameters_demo written under resources.\n"
     ]
    },
    {
     "name": "stderr",
     "output_type": "stream",
     "text": [
      " 44%|████▍     | 42/96 [01:30<01:53,  2.09s/it]"
     ]
    },
    {
     "name": "stdout",
     "output_type": "stream",
     "text": [
      "eulergpu_outcomes_demo written under resources.\n",
      "center_of_mass_demo written under resources.\n",
      "euler_parameters_demo written under resources.\n"
     ]
    },
    {
     "name": "stderr",
     "output_type": "stream",
     "text": [
      " 45%|████▍     | 43/96 [01:32<01:50,  2.08s/it]"
     ]
    },
    {
     "name": "stdout",
     "output_type": "stream",
     "text": [
      "eulergpu_outcomes_demo written under resources.\n",
      "center_of_mass_demo written under resources.\n",
      "euler_parameters_demo written under resources.\n"
     ]
    },
    {
     "name": "stderr",
     "output_type": "stream",
     "text": [
      " 46%|████▌     | 44/96 [01:34<01:48,  2.08s/it]"
     ]
    },
    {
     "name": "stdout",
     "output_type": "stream",
     "text": [
      "eulergpu_outcomes_demo written under resources.\n",
      "center_of_mass_demo written under resources.\n",
      "euler_parameters_demo written under resources.\n"
     ]
    },
    {
     "name": "stderr",
     "output_type": "stream",
     "text": [
      " 47%|████▋     | 45/96 [01:37<01:45,  2.07s/it]"
     ]
    },
    {
     "name": "stdout",
     "output_type": "stream",
     "text": [
      "eulergpu_outcomes_demo written under resources.\n",
      "center_of_mass_demo written under resources.\n",
      "euler_parameters_demo written under resources.\n"
     ]
    },
    {
     "name": "stderr",
     "output_type": "stream",
     "text": [
      " 48%|████▊     | 46/96 [01:39<01:42,  2.06s/it]"
     ]
    },
    {
     "name": "stdout",
     "output_type": "stream",
     "text": [
      "eulergpu_outcomes_demo written under resources.\n",
      "center_of_mass_demo written under resources.\n",
      "euler_parameters_demo written under resources.\n"
     ]
    },
    {
     "name": "stderr",
     "output_type": "stream",
     "text": [
      " 49%|████▉     | 47/96 [01:41<01:40,  2.05s/it]"
     ]
    },
    {
     "name": "stdout",
     "output_type": "stream",
     "text": [
      "eulergpu_outcomes_demo written under resources.\n",
      "center_of_mass_demo written under resources.\n",
      "euler_parameters_demo written under resources.\n"
     ]
    },
    {
     "name": "stderr",
     "output_type": "stream",
     "text": [
      " 50%|█████     | 48/96 [01:43<01:39,  2.07s/it]"
     ]
    },
    {
     "name": "stdout",
     "output_type": "stream",
     "text": [
      "eulergpu_outcomes_demo written under resources.\n",
      "center_of_mass_demo written under resources.\n",
      "euler_parameters_demo written under resources.\n"
     ]
    },
    {
     "name": "stderr",
     "output_type": "stream",
     "text": [
      " 51%|█████     | 49/96 [01:45<01:36,  2.06s/it]"
     ]
    },
    {
     "name": "stdout",
     "output_type": "stream",
     "text": [
      "eulergpu_outcomes_demo written under resources.\n",
      "center_of_mass_demo written under resources.\n",
      "euler_parameters_demo written under resources.\n"
     ]
    },
    {
     "name": "stderr",
     "output_type": "stream",
     "text": [
      " 52%|█████▏    | 50/96 [01:47<01:35,  2.07s/it]"
     ]
    },
    {
     "name": "stdout",
     "output_type": "stream",
     "text": [
      "eulergpu_outcomes_demo written under resources.\n",
      "center_of_mass_demo written under resources.\n",
      "euler_parameters_demo written under resources.\n"
     ]
    },
    {
     "name": "stderr",
     "output_type": "stream",
     "text": [
      " 53%|█████▎    | 51/96 [01:49<01:32,  2.06s/it]"
     ]
    },
    {
     "name": "stdout",
     "output_type": "stream",
     "text": [
      "eulergpu_outcomes_demo written under resources.\n",
      "center_of_mass_demo written under resources.\n",
      "euler_parameters_demo written under resources.\n"
     ]
    },
    {
     "name": "stderr",
     "output_type": "stream",
     "text": [
      " 54%|█████▍    | 52/96 [01:51<01:30,  2.06s/it]"
     ]
    },
    {
     "name": "stdout",
     "output_type": "stream",
     "text": [
      "eulergpu_outcomes_demo written under resources.\n",
      "center_of_mass_demo written under resources.\n",
      "euler_parameters_demo written under resources.\n"
     ]
    },
    {
     "name": "stderr",
     "output_type": "stream",
     "text": [
      " 55%|█████▌    | 53/96 [01:53<01:28,  2.05s/it]"
     ]
    },
    {
     "name": "stdout",
     "output_type": "stream",
     "text": [
      "eulergpu_outcomes_demo written under resources.\n",
      "center_of_mass_demo written under resources.\n",
      "euler_parameters_demo written under resources.\n"
     ]
    },
    {
     "name": "stderr",
     "output_type": "stream",
     "text": [
      " 56%|█████▋    | 54/96 [01:55<01:26,  2.07s/it]"
     ]
    },
    {
     "name": "stdout",
     "output_type": "stream",
     "text": [
      "eulergpu_outcomes_demo written under resources.\n",
      "center_of_mass_demo written under resources.\n",
      "euler_parameters_demo written under resources.\n"
     ]
    },
    {
     "name": "stderr",
     "output_type": "stream",
     "text": [
      " 57%|█████▋    | 55/96 [01:57<01:24,  2.06s/it]"
     ]
    },
    {
     "name": "stdout",
     "output_type": "stream",
     "text": [
      "eulergpu_outcomes_demo written under resources.\n",
      "center_of_mass_demo written under resources.\n",
      "euler_parameters_demo written under resources.\n"
     ]
    },
    {
     "name": "stderr",
     "output_type": "stream",
     "text": [
      " 58%|█████▊    | 56/96 [01:59<01:23,  2.08s/it]"
     ]
    },
    {
     "name": "stdout",
     "output_type": "stream",
     "text": [
      "eulergpu_outcomes_demo written under resources.\n",
      "center_of_mass_demo written under resources.\n",
      "euler_parameters_demo written under resources.\n"
     ]
    },
    {
     "name": "stderr",
     "output_type": "stream",
     "text": [
      " 59%|█████▉    | 57/96 [02:01<01:21,  2.09s/it]"
     ]
    },
    {
     "name": "stdout",
     "output_type": "stream",
     "text": [
      "eulergpu_outcomes_demo written under resources.\n",
      "center_of_mass_demo written under resources.\n",
      "euler_parameters_demo written under resources.\n"
     ]
    },
    {
     "name": "stderr",
     "output_type": "stream",
     "text": [
      " 60%|██████    | 58/96 [02:03<01:18,  2.08s/it]"
     ]
    },
    {
     "name": "stdout",
     "output_type": "stream",
     "text": [
      "eulergpu_outcomes_demo written under resources.\n",
      "center_of_mass_demo written under resources.\n",
      "euler_parameters_demo written under resources.\n"
     ]
    },
    {
     "name": "stderr",
     "output_type": "stream",
     "text": [
      " 61%|██████▏   | 59/96 [02:05<01:16,  2.06s/it]"
     ]
    },
    {
     "name": "stdout",
     "output_type": "stream",
     "text": [
      "eulergpu_outcomes_demo written under resources.\n",
      "center_of_mass_demo written under resources.\n",
      "euler_parameters_demo written under resources.\n"
     ]
    },
    {
     "name": "stderr",
     "output_type": "stream",
     "text": [
      " 62%|██████▎   | 60/96 [02:07<01:13,  2.05s/it]"
     ]
    },
    {
     "name": "stdout",
     "output_type": "stream",
     "text": [
      "eulergpu_outcomes_demo written under resources.\n",
      "center_of_mass_demo written under resources.\n",
      "euler_parameters_demo written under resources.\n"
     ]
    },
    {
     "name": "stderr",
     "output_type": "stream",
     "text": [
      " 64%|██████▎   | 61/96 [02:10<01:12,  2.08s/it]"
     ]
    },
    {
     "name": "stdout",
     "output_type": "stream",
     "text": [
      "eulergpu_outcomes_demo written under resources.\n",
      "center_of_mass_demo written under resources.\n",
      "euler_parameters_demo written under resources.\n"
     ]
    },
    {
     "name": "stderr",
     "output_type": "stream",
     "text": [
      " 65%|██████▍   | 62/96 [02:12<01:10,  2.07s/it]"
     ]
    },
    {
     "name": "stdout",
     "output_type": "stream",
     "text": [
      "eulergpu_outcomes_demo written under resources.\n",
      "center_of_mass_demo written under resources.\n",
      "euler_parameters_demo written under resources.\n"
     ]
    },
    {
     "name": "stderr",
     "output_type": "stream",
     "text": [
      " 66%|██████▌   | 63/96 [02:14<01:07,  2.04s/it]"
     ]
    },
    {
     "name": "stdout",
     "output_type": "stream",
     "text": [
      "eulergpu_outcomes_demo written under resources.\n",
      "center_of_mass_demo written under resources.\n",
      "euler_parameters_demo written under resources.\n"
     ]
    },
    {
     "name": "stderr",
     "output_type": "stream",
     "text": [
      " 67%|██████▋   | 64/96 [02:16<01:06,  2.08s/it]"
     ]
    },
    {
     "name": "stdout",
     "output_type": "stream",
     "text": [
      "eulergpu_outcomes_demo written under resources.\n",
      "center_of_mass_demo written under resources.\n",
      "euler_parameters_demo written under resources.\n"
     ]
    },
    {
     "name": "stderr",
     "output_type": "stream",
     "text": [
      " 68%|██████▊   | 65/96 [02:18<01:04,  2.08s/it]"
     ]
    },
    {
     "name": "stdout",
     "output_type": "stream",
     "text": [
      "eulergpu_outcomes_demo written under resources.\n",
      "center_of_mass_demo written under resources.\n",
      "euler_parameters_demo written under resources.\n"
     ]
    },
    {
     "name": "stderr",
     "output_type": "stream",
     "text": [
      " 69%|██████▉   | 66/96 [02:20<01:02,  2.09s/it]"
     ]
    },
    {
     "name": "stdout",
     "output_type": "stream",
     "text": [
      "eulergpu_outcomes_demo written under resources.\n",
      "center_of_mass_demo written under resources.\n",
      "euler_parameters_demo written under resources.\n"
     ]
    },
    {
     "name": "stderr",
     "output_type": "stream",
     "text": [
      " 70%|██████▉   | 67/96 [02:22<01:00,  2.07s/it]"
     ]
    },
    {
     "name": "stdout",
     "output_type": "stream",
     "text": [
      "eulergpu_outcomes_demo written under resources.\n",
      "center_of_mass_demo written under resources.\n",
      "euler_parameters_demo written under resources.\n"
     ]
    },
    {
     "name": "stderr",
     "output_type": "stream",
     "text": [
      " 71%|███████   | 68/96 [02:24<00:57,  2.04s/it]"
     ]
    },
    {
     "name": "stdout",
     "output_type": "stream",
     "text": [
      "eulergpu_outcomes_demo written under resources.\n",
      "center_of_mass_demo written under resources.\n",
      "euler_parameters_demo written under resources.\n"
     ]
    },
    {
     "name": "stderr",
     "output_type": "stream",
     "text": [
      " 72%|███████▏  | 69/96 [02:26<00:55,  2.07s/it]"
     ]
    },
    {
     "name": "stdout",
     "output_type": "stream",
     "text": [
      "eulergpu_outcomes_demo written under resources.\n",
      "center_of_mass_demo written under resources.\n",
      "euler_parameters_demo written under resources.\n"
     ]
    },
    {
     "name": "stderr",
     "output_type": "stream",
     "text": [
      " 73%|███████▎  | 70/96 [02:28<00:53,  2.07s/it]"
     ]
    },
    {
     "name": "stdout",
     "output_type": "stream",
     "text": [
      "eulergpu_outcomes_demo written under resources.\n",
      "center_of_mass_demo written under resources.\n",
      "euler_parameters_demo written under resources.\n"
     ]
    },
    {
     "name": "stderr",
     "output_type": "stream",
     "text": [
      " 74%|███████▍  | 71/96 [02:30<00:51,  2.08s/it]"
     ]
    },
    {
     "name": "stdout",
     "output_type": "stream",
     "text": [
      "eulergpu_outcomes_demo written under resources.\n",
      "center_of_mass_demo written under resources.\n",
      "euler_parameters_demo written under resources.\n"
     ]
    },
    {
     "name": "stderr",
     "output_type": "stream",
     "text": [
      " 75%|███████▌  | 72/96 [02:32<00:49,  2.08s/it]"
     ]
    },
    {
     "name": "stdout",
     "output_type": "stream",
     "text": [
      "eulergpu_outcomes_demo written under resources.\n",
      "center_of_mass_demo written under resources.\n",
      "euler_parameters_demo written under resources.\n"
     ]
    },
    {
     "name": "stderr",
     "output_type": "stream",
     "text": [
      " 76%|███████▌  | 73/96 [02:35<00:48,  2.12s/it]"
     ]
    },
    {
     "name": "stdout",
     "output_type": "stream",
     "text": [
      "eulergpu_outcomes_demo written under resources.\n",
      "center_of_mass_demo written under resources.\n",
      "euler_parameters_demo written under resources.\n"
     ]
    },
    {
     "name": "stderr",
     "output_type": "stream",
     "text": [
      " 77%|███████▋  | 74/96 [02:37<00:46,  2.12s/it]"
     ]
    },
    {
     "name": "stdout",
     "output_type": "stream",
     "text": [
      "eulergpu_outcomes_demo written under resources.\n",
      "center_of_mass_demo written under resources.\n",
      "euler_parameters_demo written under resources.\n"
     ]
    },
    {
     "name": "stderr",
     "output_type": "stream",
     "text": [
      " 78%|███████▊  | 75/96 [02:39<00:43,  2.09s/it]"
     ]
    },
    {
     "name": "stdout",
     "output_type": "stream",
     "text": [
      "eulergpu_outcomes_demo written under resources.\n",
      "center_of_mass_demo written under resources.\n",
      "euler_parameters_demo written under resources.\n"
     ]
    },
    {
     "name": "stderr",
     "output_type": "stream",
     "text": [
      " 79%|███████▉  | 76/96 [02:41<00:41,  2.10s/it]"
     ]
    },
    {
     "name": "stdout",
     "output_type": "stream",
     "text": [
      "eulergpu_outcomes_demo written under resources.\n",
      "center_of_mass_demo written under resources.\n",
      "euler_parameters_demo written under resources.\n"
     ]
    },
    {
     "name": "stderr",
     "output_type": "stream",
     "text": [
      " 80%|████████  | 77/96 [02:43<00:39,  2.09s/it]"
     ]
    },
    {
     "name": "stdout",
     "output_type": "stream",
     "text": [
      "eulergpu_outcomes_demo written under resources.\n",
      "center_of_mass_demo written under resources.\n",
      "euler_parameters_demo written under resources.\n"
     ]
    },
    {
     "name": "stderr",
     "output_type": "stream",
     "text": [
      " 81%|████████▏ | 78/96 [02:45<00:37,  2.10s/it]"
     ]
    },
    {
     "name": "stdout",
     "output_type": "stream",
     "text": [
      "eulergpu_outcomes_demo written under resources.\n",
      "center_of_mass_demo written under resources.\n",
      "euler_parameters_demo written under resources.\n"
     ]
    },
    {
     "name": "stderr",
     "output_type": "stream",
     "text": [
      " 82%|████████▏ | 79/96 [02:47<00:35,  2.07s/it]"
     ]
    },
    {
     "name": "stdout",
     "output_type": "stream",
     "text": [
      "eulergpu_outcomes_demo written under resources.\n",
      "center_of_mass_demo written under resources.\n",
      "euler_parameters_demo written under resources.\n"
     ]
    },
    {
     "name": "stderr",
     "output_type": "stream",
     "text": [
      " 83%|████████▎ | 80/96 [02:49<00:33,  2.07s/it]"
     ]
    },
    {
     "name": "stdout",
     "output_type": "stream",
     "text": [
      "eulergpu_outcomes_demo written under resources.\n",
      "center_of_mass_demo written under resources.\n",
      "euler_parameters_demo written under resources.\n"
     ]
    },
    {
     "name": "stderr",
     "output_type": "stream",
     "text": [
      " 84%|████████▍ | 81/96 [02:51<00:30,  2.05s/it]"
     ]
    },
    {
     "name": "stdout",
     "output_type": "stream",
     "text": [
      "eulergpu_outcomes_demo written under resources.\n",
      "center_of_mass_demo written under resources.\n",
      "euler_parameters_demo written under resources.\n"
     ]
    },
    {
     "name": "stderr",
     "output_type": "stream",
     "text": [
      " 85%|████████▌ | 82/96 [02:53<00:28,  2.04s/it]"
     ]
    },
    {
     "name": "stdout",
     "output_type": "stream",
     "text": [
      "eulergpu_outcomes_demo written under resources.\n",
      "center_of_mass_demo written under resources.\n",
      "euler_parameters_demo written under resources.\n"
     ]
    },
    {
     "name": "stderr",
     "output_type": "stream",
     "text": [
      " 86%|████████▋ | 83/96 [02:55<00:26,  2.04s/it]"
     ]
    },
    {
     "name": "stdout",
     "output_type": "stream",
     "text": [
      "eulergpu_outcomes_demo written under resources.\n",
      "center_of_mass_demo written under resources.\n",
      "euler_parameters_demo written under resources.\n"
     ]
    },
    {
     "name": "stderr",
     "output_type": "stream",
     "text": [
      " 88%|████████▊ | 84/96 [02:57<00:24,  2.06s/it]"
     ]
    },
    {
     "name": "stdout",
     "output_type": "stream",
     "text": [
      "eulergpu_outcomes_demo written under resources.\n",
      "center_of_mass_demo written under resources.\n",
      "euler_parameters_demo written under resources.\n"
     ]
    },
    {
     "name": "stderr",
     "output_type": "stream",
     "text": [
      " 89%|████████▊ | 85/96 [02:59<00:22,  2.04s/it]"
     ]
    },
    {
     "name": "stdout",
     "output_type": "stream",
     "text": [
      "eulergpu_outcomes_demo written under resources.\n",
      "center_of_mass_demo written under resources.\n",
      "euler_parameters_demo written under resources.\n"
     ]
    },
    {
     "name": "stderr",
     "output_type": "stream",
     "text": [
      " 90%|████████▉ | 86/96 [03:01<00:20,  2.06s/it]"
     ]
    },
    {
     "name": "stdout",
     "output_type": "stream",
     "text": [
      "eulergpu_outcomes_demo written under resources.\n",
      "center_of_mass_demo written under resources.\n",
      "euler_parameters_demo written under resources.\n"
     ]
    },
    {
     "name": "stderr",
     "output_type": "stream",
     "text": [
      " 91%|█████████ | 87/96 [03:03<00:18,  2.05s/it]"
     ]
    },
    {
     "name": "stdout",
     "output_type": "stream",
     "text": [
      "eulergpu_outcomes_demo written under resources.\n",
      "center_of_mass_demo written under resources.\n",
      "euler_parameters_demo written under resources.\n"
     ]
    },
    {
     "name": "stderr",
     "output_type": "stream",
     "text": [
      " 92%|█████████▏| 88/96 [03:05<00:16,  2.06s/it]"
     ]
    },
    {
     "name": "stdout",
     "output_type": "stream",
     "text": [
      "eulergpu_outcomes_demo written under resources.\n",
      "center_of_mass_demo written under resources.\n",
      "euler_parameters_demo written under resources.\n"
     ]
    },
    {
     "name": "stderr",
     "output_type": "stream",
     "text": [
      " 93%|█████████▎| 89/96 [03:07<00:14,  2.05s/it]"
     ]
    },
    {
     "name": "stdout",
     "output_type": "stream",
     "text": [
      "eulergpu_outcomes_demo written under resources.\n",
      "center_of_mass_demo written under resources.\n",
      "euler_parameters_demo written under resources.\n"
     ]
    },
    {
     "name": "stderr",
     "output_type": "stream",
     "text": [
      " 94%|█████████▍| 90/96 [03:10<00:12,  2.05s/it]"
     ]
    },
    {
     "name": "stdout",
     "output_type": "stream",
     "text": [
      "eulergpu_outcomes_demo written under resources.\n",
      "center_of_mass_demo written under resources.\n",
      "euler_parameters_demo written under resources.\n"
     ]
    },
    {
     "name": "stderr",
     "output_type": "stream",
     "text": [
      " 95%|█████████▍| 91/96 [03:12<00:10,  2.07s/it]"
     ]
    },
    {
     "name": "stdout",
     "output_type": "stream",
     "text": [
      "eulergpu_outcomes_demo written under resources.\n",
      "center_of_mass_demo written under resources.\n",
      "euler_parameters_demo written under resources.\n"
     ]
    },
    {
     "name": "stderr",
     "output_type": "stream",
     "text": [
      " 96%|█████████▌| 92/96 [03:14<00:08,  2.06s/it]"
     ]
    },
    {
     "name": "stdout",
     "output_type": "stream",
     "text": [
      "eulergpu_outcomes_demo written under resources.\n",
      "center_of_mass_demo written under resources.\n",
      "euler_parameters_demo written under resources.\n"
     ]
    },
    {
     "name": "stderr",
     "output_type": "stream",
     "text": [
      " 97%|█████████▋| 93/96 [03:16<00:06,  2.08s/it]"
     ]
    },
    {
     "name": "stdout",
     "output_type": "stream",
     "text": [
      "eulergpu_outcomes_demo written under resources.\n",
      "center_of_mass_demo written under resources.\n",
      "euler_parameters_demo written under resources.\n"
     ]
    },
    {
     "name": "stderr",
     "output_type": "stream",
     "text": [
      " 98%|█████████▊| 94/96 [03:18<00:04,  2.07s/it]"
     ]
    },
    {
     "name": "stdout",
     "output_type": "stream",
     "text": [
      "eulergpu_outcomes_demo written under resources.\n",
      "center_of_mass_demo written under resources.\n",
      "euler_parameters_demo written under resources.\n"
     ]
    },
    {
     "name": "stderr",
     "output_type": "stream",
     "text": [
      " 99%|█████████▉| 95/96 [03:20<00:02,  2.07s/it]"
     ]
    },
    {
     "name": "stdout",
     "output_type": "stream",
     "text": [
      "eulergpu_outcomes_demo written under resources.\n",
      "center_of_mass_demo written under resources.\n",
      "euler_parameters_demo written under resources.\n"
     ]
    },
    {
     "name": "stderr",
     "output_type": "stream",
     "text": [
      "100%|██████████| 96/96 [03:22<00:00,  2.11s/it]\n"
     ]
    },
    {
     "name": "stdout",
     "output_type": "stream",
     "text": [
      "eulergpu_outcomes_demo written under resources.\n",
      "center_of_mass_demo written under resources.\n",
      "euler_parameters_demo written under resources.\n",
      "eulergpu_outcomes_demo written under resources.\n",
      "center_of_mass_demo written under resources.\n",
      "euler_parameters_demo written under resources.\n",
      "=====Processing 2023-07-28-04 in train=====\n"
     ]
    },
    {
     "name": "stderr",
     "output_type": "stream",
     "text": [
      "  1%|          | 1/96 [00:02<03:16,  2.07s/it]"
     ]
    },
    {
     "name": "stdout",
     "output_type": "stream",
     "text": [
      "eulergpu_outcomes_demo written under resources.\n",
      "center_of_mass_demo written under resources.\n",
      "euler_parameters_demo written under resources.\n"
     ]
    },
    {
     "name": "stderr",
     "output_type": "stream",
     "text": [
      "  2%|▏         | 2/96 [00:04<03:18,  2.11s/it]"
     ]
    },
    {
     "name": "stdout",
     "output_type": "stream",
     "text": [
      "eulergpu_outcomes_demo written under resources.\n",
      "center_of_mass_demo written under resources.\n",
      "euler_parameters_demo written under resources.\n"
     ]
    },
    {
     "name": "stderr",
     "output_type": "stream",
     "text": [
      "  3%|▎         | 3/96 [00:06<03:15,  2.10s/it]"
     ]
    },
    {
     "name": "stdout",
     "output_type": "stream",
     "text": [
      "eulergpu_outcomes_demo written under resources.\n",
      "center_of_mass_demo written under resources.\n",
      "euler_parameters_demo written under resources.\n"
     ]
    },
    {
     "name": "stderr",
     "output_type": "stream",
     "text": [
      "  4%|▍         | 4/96 [00:08<03:11,  2.08s/it]"
     ]
    },
    {
     "name": "stdout",
     "output_type": "stream",
     "text": [
      "eulergpu_outcomes_demo written under resources.\n",
      "center_of_mass_demo written under resources.\n",
      "euler_parameters_demo written under resources.\n"
     ]
    },
    {
     "name": "stderr",
     "output_type": "stream",
     "text": [
      "  5%|▌         | 5/96 [00:10<03:10,  2.09s/it]"
     ]
    },
    {
     "name": "stdout",
     "output_type": "stream",
     "text": [
      "eulergpu_outcomes_demo written under resources.\n",
      "center_of_mass_demo written under resources.\n",
      "euler_parameters_demo written under resources.\n"
     ]
    },
    {
     "name": "stderr",
     "output_type": "stream",
     "text": [
      "  6%|▋         | 6/96 [00:12<03:09,  2.10s/it]"
     ]
    },
    {
     "name": "stdout",
     "output_type": "stream",
     "text": [
      "eulergpu_outcomes_demo written under resources.\n",
      "center_of_mass_demo written under resources.\n",
      "euler_parameters_demo written under resources.\n"
     ]
    },
    {
     "name": "stderr",
     "output_type": "stream",
     "text": [
      "  7%|▋         | 7/96 [00:14<03:07,  2.10s/it]"
     ]
    },
    {
     "name": "stdout",
     "output_type": "stream",
     "text": [
      "eulergpu_outcomes_demo written under resources.\n",
      "center_of_mass_demo written under resources.\n",
      "euler_parameters_demo written under resources.\n"
     ]
    },
    {
     "name": "stderr",
     "output_type": "stream",
     "text": [
      "  8%|▊         | 8/96 [00:16<03:02,  2.08s/it]"
     ]
    },
    {
     "name": "stdout",
     "output_type": "stream",
     "text": [
      "eulergpu_outcomes_demo written under resources.\n",
      "center_of_mass_demo written under resources.\n",
      "euler_parameters_demo written under resources.\n"
     ]
    },
    {
     "name": "stderr",
     "output_type": "stream",
     "text": [
      "  9%|▉         | 9/96 [00:18<03:00,  2.07s/it]"
     ]
    },
    {
     "name": "stdout",
     "output_type": "stream",
     "text": [
      "eulergpu_outcomes_demo written under resources.\n",
      "center_of_mass_demo written under resources.\n",
      "euler_parameters_demo written under resources.\n"
     ]
    },
    {
     "name": "stderr",
     "output_type": "stream",
     "text": [
      " 10%|█         | 10/96 [00:20<02:59,  2.09s/it]"
     ]
    },
    {
     "name": "stdout",
     "output_type": "stream",
     "text": [
      "eulergpu_outcomes_demo written under resources.\n",
      "center_of_mass_demo written under resources.\n",
      "euler_parameters_demo written under resources.\n"
     ]
    },
    {
     "name": "stderr",
     "output_type": "stream",
     "text": [
      " 11%|█▏        | 11/96 [00:22<02:55,  2.07s/it]"
     ]
    },
    {
     "name": "stdout",
     "output_type": "stream",
     "text": [
      "eulergpu_outcomes_demo written under resources.\n",
      "center_of_mass_demo written under resources.\n",
      "euler_parameters_demo written under resources.\n"
     ]
    },
    {
     "name": "stderr",
     "output_type": "stream",
     "text": [
      " 12%|█▎        | 12/96 [00:24<02:53,  2.06s/it]"
     ]
    },
    {
     "name": "stdout",
     "output_type": "stream",
     "text": [
      "eulergpu_outcomes_demo written under resources.\n",
      "center_of_mass_demo written under resources.\n",
      "euler_parameters_demo written under resources.\n"
     ]
    },
    {
     "name": "stderr",
     "output_type": "stream",
     "text": [
      " 14%|█▎        | 13/96 [00:27<02:51,  2.06s/it]"
     ]
    },
    {
     "name": "stdout",
     "output_type": "stream",
     "text": [
      "eulergpu_outcomes_demo written under resources.\n",
      "center_of_mass_demo written under resources.\n",
      "euler_parameters_demo written under resources.\n"
     ]
    },
    {
     "name": "stderr",
     "output_type": "stream",
     "text": [
      " 15%|█▍        | 14/96 [00:29<02:48,  2.05s/it]"
     ]
    },
    {
     "name": "stdout",
     "output_type": "stream",
     "text": [
      "eulergpu_outcomes_demo written under resources.\n",
      "center_of_mass_demo written under resources.\n",
      "euler_parameters_demo written under resources.\n"
     ]
    },
    {
     "name": "stderr",
     "output_type": "stream",
     "text": [
      " 16%|█▌        | 15/96 [00:31<02:46,  2.06s/it]"
     ]
    },
    {
     "name": "stdout",
     "output_type": "stream",
     "text": [
      "eulergpu_outcomes_demo written under resources.\n",
      "center_of_mass_demo written under resources.\n",
      "euler_parameters_demo written under resources.\n"
     ]
    },
    {
     "name": "stderr",
     "output_type": "stream",
     "text": [
      " 17%|█▋        | 16/96 [00:33<02:44,  2.05s/it]"
     ]
    },
    {
     "name": "stdout",
     "output_type": "stream",
     "text": [
      "eulergpu_outcomes_demo written under resources.\n",
      "center_of_mass_demo written under resources.\n",
      "euler_parameters_demo written under resources.\n"
     ]
    },
    {
     "name": "stderr",
     "output_type": "stream",
     "text": [
      " 18%|█▊        | 17/96 [00:35<02:42,  2.05s/it]"
     ]
    },
    {
     "name": "stdout",
     "output_type": "stream",
     "text": [
      "eulergpu_outcomes_demo written under resources.\n",
      "center_of_mass_demo written under resources.\n",
      "euler_parameters_demo written under resources.\n"
     ]
    },
    {
     "name": "stderr",
     "output_type": "stream",
     "text": [
      " 19%|█▉        | 18/96 [00:37<02:40,  2.06s/it]"
     ]
    },
    {
     "name": "stdout",
     "output_type": "stream",
     "text": [
      "eulergpu_outcomes_demo written under resources.\n",
      "center_of_mass_demo written under resources.\n",
      "euler_parameters_demo written under resources.\n"
     ]
    },
    {
     "name": "stderr",
     "output_type": "stream",
     "text": [
      " 20%|█▉        | 19/96 [00:39<02:38,  2.05s/it]"
     ]
    },
    {
     "name": "stdout",
     "output_type": "stream",
     "text": [
      "eulergpu_outcomes_demo written under resources.\n",
      "center_of_mass_demo written under resources.\n",
      "euler_parameters_demo written under resources.\n"
     ]
    },
    {
     "name": "stderr",
     "output_type": "stream",
     "text": [
      " 21%|██        | 20/96 [00:41<02:37,  2.07s/it]"
     ]
    },
    {
     "name": "stdout",
     "output_type": "stream",
     "text": [
      "eulergpu_outcomes_demo written under resources.\n",
      "center_of_mass_demo written under resources.\n",
      "euler_parameters_demo written under resources.\n"
     ]
    },
    {
     "name": "stderr",
     "output_type": "stream",
     "text": [
      " 22%|██▏       | 21/96 [00:43<02:33,  2.05s/it]"
     ]
    },
    {
     "name": "stdout",
     "output_type": "stream",
     "text": [
      "eulergpu_outcomes_demo written under resources.\n",
      "center_of_mass_demo written under resources.\n",
      "euler_parameters_demo written under resources.\n"
     ]
    },
    {
     "name": "stderr",
     "output_type": "stream",
     "text": [
      " 23%|██▎       | 22/96 [00:45<02:31,  2.05s/it]"
     ]
    },
    {
     "name": "stdout",
     "output_type": "stream",
     "text": [
      "eulergpu_outcomes_demo written under resources.\n",
      "center_of_mass_demo written under resources.\n",
      "euler_parameters_demo written under resources.\n"
     ]
    },
    {
     "name": "stderr",
     "output_type": "stream",
     "text": [
      " 24%|██▍       | 23/96 [00:47<02:29,  2.05s/it]"
     ]
    },
    {
     "name": "stdout",
     "output_type": "stream",
     "text": [
      "eulergpu_outcomes_demo written under resources.\n",
      "center_of_mass_demo written under resources.\n",
      "euler_parameters_demo written under resources.\n"
     ]
    },
    {
     "name": "stderr",
     "output_type": "stream",
     "text": [
      " 25%|██▌       | 24/96 [00:49<02:27,  2.05s/it]"
     ]
    },
    {
     "name": "stdout",
     "output_type": "stream",
     "text": [
      "eulergpu_outcomes_demo written under resources.\n",
      "center_of_mass_demo written under resources.\n",
      "euler_parameters_demo written under resources.\n"
     ]
    },
    {
     "name": "stderr",
     "output_type": "stream",
     "text": [
      " 26%|██▌       | 25/96 [00:51<02:25,  2.05s/it]"
     ]
    },
    {
     "name": "stdout",
     "output_type": "stream",
     "text": [
      "eulergpu_outcomes_demo written under resources.\n",
      "center_of_mass_demo written under resources.\n",
      "euler_parameters_demo written under resources.\n"
     ]
    },
    {
     "name": "stderr",
     "output_type": "stream",
     "text": [
      " 27%|██▋       | 26/96 [00:53<02:23,  2.04s/it]"
     ]
    },
    {
     "name": "stdout",
     "output_type": "stream",
     "text": [
      "eulergpu_outcomes_demo written under resources.\n",
      "center_of_mass_demo written under resources.\n",
      "euler_parameters_demo written under resources.\n"
     ]
    },
    {
     "name": "stderr",
     "output_type": "stream",
     "text": [
      " 28%|██▊       | 27/96 [00:55<02:20,  2.04s/it]"
     ]
    },
    {
     "name": "stdout",
     "output_type": "stream",
     "text": [
      "eulergpu_outcomes_demo written under resources.\n",
      "center_of_mass_demo written under resources.\n",
      "euler_parameters_demo written under resources.\n"
     ]
    },
    {
     "name": "stderr",
     "output_type": "stream",
     "text": [
      " 29%|██▉       | 28/96 [00:57<02:18,  2.03s/it]"
     ]
    },
    {
     "name": "stdout",
     "output_type": "stream",
     "text": [
      "eulergpu_outcomes_demo written under resources.\n",
      "center_of_mass_demo written under resources.\n",
      "euler_parameters_demo written under resources.\n"
     ]
    },
    {
     "name": "stderr",
     "output_type": "stream",
     "text": [
      " 30%|███       | 29/96 [00:59<02:16,  2.04s/it]"
     ]
    },
    {
     "name": "stdout",
     "output_type": "stream",
     "text": [
      "eulergpu_outcomes_demo written under resources.\n",
      "center_of_mass_demo written under resources.\n",
      "euler_parameters_demo written under resources.\n"
     ]
    },
    {
     "name": "stderr",
     "output_type": "stream",
     "text": [
      " 31%|███▏      | 30/96 [01:01<02:14,  2.04s/it]"
     ]
    },
    {
     "name": "stdout",
     "output_type": "stream",
     "text": [
      "eulergpu_outcomes_demo written under resources.\n",
      "center_of_mass_demo written under resources.\n",
      "euler_parameters_demo written under resources.\n"
     ]
    },
    {
     "name": "stderr",
     "output_type": "stream",
     "text": [
      " 32%|███▏      | 31/96 [01:03<02:12,  2.04s/it]"
     ]
    },
    {
     "name": "stdout",
     "output_type": "stream",
     "text": [
      "eulergpu_outcomes_demo written under resources.\n",
      "center_of_mass_demo written under resources.\n",
      "euler_parameters_demo written under resources.\n"
     ]
    },
    {
     "name": "stderr",
     "output_type": "stream",
     "text": [
      " 33%|███▎      | 32/96 [01:05<02:09,  2.03s/it]"
     ]
    },
    {
     "name": "stdout",
     "output_type": "stream",
     "text": [
      "eulergpu_outcomes_demo written under resources.\n",
      "center_of_mass_demo written under resources.\n",
      "euler_parameters_demo written under resources.\n"
     ]
    },
    {
     "name": "stderr",
     "output_type": "stream",
     "text": [
      " 34%|███▍      | 33/96 [01:07<02:07,  2.03s/it]"
     ]
    },
    {
     "name": "stdout",
     "output_type": "stream",
     "text": [
      "eulergpu_outcomes_demo written under resources.\n",
      "center_of_mass_demo written under resources.\n",
      "euler_parameters_demo written under resources.\n"
     ]
    },
    {
     "name": "stderr",
     "output_type": "stream",
     "text": [
      " 35%|███▌      | 34/96 [01:09<02:04,  2.01s/it]"
     ]
    },
    {
     "name": "stdout",
     "output_type": "stream",
     "text": [
      "eulergpu_outcomes_demo written under resources.\n",
      "center_of_mass_demo written under resources.\n",
      "euler_parameters_demo written under resources.\n"
     ]
    },
    {
     "name": "stderr",
     "output_type": "stream",
     "text": [
      " 36%|███▋      | 35/96 [01:11<02:02,  2.01s/it]"
     ]
    },
    {
     "name": "stdout",
     "output_type": "stream",
     "text": [
      "eulergpu_outcomes_demo written under resources.\n",
      "center_of_mass_demo written under resources.\n",
      "euler_parameters_demo written under resources.\n"
     ]
    },
    {
     "name": "stderr",
     "output_type": "stream",
     "text": [
      " 38%|███▊      | 36/96 [01:14<02:03,  2.06s/it]"
     ]
    },
    {
     "name": "stdout",
     "output_type": "stream",
     "text": [
      "eulergpu_outcomes_demo written under resources.\n",
      "center_of_mass_demo written under resources.\n",
      "euler_parameters_demo written under resources.\n"
     ]
    },
    {
     "name": "stderr",
     "output_type": "stream",
     "text": [
      " 39%|███▊      | 37/96 [01:16<02:04,  2.10s/it]"
     ]
    },
    {
     "name": "stdout",
     "output_type": "stream",
     "text": [
      "eulergpu_outcomes_demo written under resources.\n",
      "center_of_mass_demo written under resources.\n",
      "euler_parameters_demo written under resources.\n"
     ]
    },
    {
     "name": "stderr",
     "output_type": "stream",
     "text": [
      " 40%|███▉      | 38/96 [01:18<02:01,  2.09s/it]"
     ]
    },
    {
     "name": "stdout",
     "output_type": "stream",
     "text": [
      "eulergpu_outcomes_demo written under resources.\n",
      "center_of_mass_demo written under resources.\n",
      "euler_parameters_demo written under resources.\n"
     ]
    },
    {
     "name": "stderr",
     "output_type": "stream",
     "text": [
      " 41%|████      | 39/96 [01:20<01:59,  2.10s/it]"
     ]
    },
    {
     "name": "stdout",
     "output_type": "stream",
     "text": [
      "eulergpu_outcomes_demo written under resources.\n",
      "center_of_mass_demo written under resources.\n",
      "euler_parameters_demo written under resources.\n"
     ]
    },
    {
     "name": "stderr",
     "output_type": "stream",
     "text": [
      " 42%|████▏     | 40/96 [01:22<01:56,  2.08s/it]"
     ]
    },
    {
     "name": "stdout",
     "output_type": "stream",
     "text": [
      "eulergpu_outcomes_demo written under resources.\n",
      "center_of_mass_demo written under resources.\n",
      "euler_parameters_demo written under resources.\n"
     ]
    },
    {
     "name": "stderr",
     "output_type": "stream",
     "text": [
      " 43%|████▎     | 41/96 [01:24<01:53,  2.07s/it]"
     ]
    },
    {
     "name": "stdout",
     "output_type": "stream",
     "text": [
      "eulergpu_outcomes_demo written under resources.\n",
      "center_of_mass_demo written under resources.\n",
      "euler_parameters_demo written under resources.\n"
     ]
    },
    {
     "name": "stderr",
     "output_type": "stream",
     "text": [
      " 44%|████▍     | 42/96 [01:26<01:51,  2.07s/it]"
     ]
    },
    {
     "name": "stdout",
     "output_type": "stream",
     "text": [
      "eulergpu_outcomes_demo written under resources.\n",
      "center_of_mass_demo written under resources.\n",
      "euler_parameters_demo written under resources.\n"
     ]
    },
    {
     "name": "stderr",
     "output_type": "stream",
     "text": [
      " 45%|████▍     | 43/96 [01:28<01:48,  2.05s/it]"
     ]
    },
    {
     "name": "stdout",
     "output_type": "stream",
     "text": [
      "eulergpu_outcomes_demo written under resources.\n",
      "center_of_mass_demo written under resources.\n",
      "euler_parameters_demo written under resources.\n"
     ]
    },
    {
     "name": "stderr",
     "output_type": "stream",
     "text": [
      " 46%|████▌     | 44/96 [01:30<01:46,  2.05s/it]"
     ]
    },
    {
     "name": "stdout",
     "output_type": "stream",
     "text": [
      "eulergpu_outcomes_demo written under resources.\n",
      "center_of_mass_demo written under resources.\n",
      "euler_parameters_demo written under resources.\n"
     ]
    },
    {
     "name": "stderr",
     "output_type": "stream",
     "text": [
      " 47%|████▋     | 45/96 [01:32<01:43,  2.02s/it]"
     ]
    },
    {
     "name": "stdout",
     "output_type": "stream",
     "text": [
      "eulergpu_outcomes_demo written under resources.\n",
      "center_of_mass_demo written under resources.\n",
      "euler_parameters_demo written under resources.\n"
     ]
    },
    {
     "name": "stderr",
     "output_type": "stream",
     "text": [
      " 48%|████▊     | 46/96 [01:34<01:41,  2.03s/it]"
     ]
    },
    {
     "name": "stdout",
     "output_type": "stream",
     "text": [
      "eulergpu_outcomes_demo written under resources.\n",
      "center_of_mass_demo written under resources.\n",
      "euler_parameters_demo written under resources.\n"
     ]
    },
    {
     "name": "stderr",
     "output_type": "stream",
     "text": [
      " 49%|████▉     | 47/96 [01:36<01:38,  2.02s/it]"
     ]
    },
    {
     "name": "stdout",
     "output_type": "stream",
     "text": [
      "eulergpu_outcomes_demo written under resources.\n",
      "center_of_mass_demo written under resources.\n",
      "euler_parameters_demo written under resources.\n"
     ]
    },
    {
     "name": "stderr",
     "output_type": "stream",
     "text": [
      " 50%|█████     | 48/96 [01:38<01:36,  2.02s/it]"
     ]
    },
    {
     "name": "stdout",
     "output_type": "stream",
     "text": [
      "eulergpu_outcomes_demo written under resources.\n",
      "center_of_mass_demo written under resources.\n",
      "euler_parameters_demo written under resources.\n"
     ]
    },
    {
     "name": "stderr",
     "output_type": "stream",
     "text": [
      " 51%|█████     | 49/96 [01:40<01:34,  2.02s/it]"
     ]
    },
    {
     "name": "stdout",
     "output_type": "stream",
     "text": [
      "eulergpu_outcomes_demo written under resources.\n",
      "center_of_mass_demo written under resources.\n",
      "euler_parameters_demo written under resources.\n"
     ]
    },
    {
     "name": "stderr",
     "output_type": "stream",
     "text": [
      " 52%|█████▏    | 50/96 [01:42<01:33,  2.02s/it]"
     ]
    },
    {
     "name": "stdout",
     "output_type": "stream",
     "text": [
      "eulergpu_outcomes_demo written under resources.\n",
      "center_of_mass_demo written under resources.\n",
      "euler_parameters_demo written under resources.\n"
     ]
    },
    {
     "name": "stderr",
     "output_type": "stream",
     "text": [
      " 53%|█████▎    | 51/96 [01:44<01:31,  2.03s/it]"
     ]
    },
    {
     "name": "stdout",
     "output_type": "stream",
     "text": [
      "eulergpu_outcomes_demo written under resources.\n",
      "center_of_mass_demo written under resources.\n",
      "euler_parameters_demo written under resources.\n"
     ]
    },
    {
     "name": "stderr",
     "output_type": "stream",
     "text": [
      " 54%|█████▍    | 52/96 [01:46<01:29,  2.04s/it]"
     ]
    },
    {
     "name": "stdout",
     "output_type": "stream",
     "text": [
      "eulergpu_outcomes_demo written under resources.\n",
      "center_of_mass_demo written under resources.\n",
      "euler_parameters_demo written under resources.\n"
     ]
    },
    {
     "name": "stderr",
     "output_type": "stream",
     "text": [
      " 55%|█████▌    | 53/96 [01:48<01:27,  2.04s/it]"
     ]
    },
    {
     "name": "stdout",
     "output_type": "stream",
     "text": [
      "eulergpu_outcomes_demo written under resources.\n",
      "center_of_mass_demo written under resources.\n",
      "euler_parameters_demo written under resources.\n"
     ]
    },
    {
     "name": "stderr",
     "output_type": "stream",
     "text": [
      " 56%|█████▋    | 54/96 [01:50<01:25,  2.04s/it]"
     ]
    },
    {
     "name": "stdout",
     "output_type": "stream",
     "text": [
      "eulergpu_outcomes_demo written under resources.\n",
      "center_of_mass_demo written under resources.\n",
      "euler_parameters_demo written under resources.\n"
     ]
    },
    {
     "name": "stderr",
     "output_type": "stream",
     "text": [
      " 57%|█████▋    | 55/96 [01:52<01:23,  2.04s/it]"
     ]
    },
    {
     "name": "stdout",
     "output_type": "stream",
     "text": [
      "eulergpu_outcomes_demo written under resources.\n",
      "center_of_mass_demo written under resources.\n",
      "euler_parameters_demo written under resources.\n"
     ]
    },
    {
     "name": "stderr",
     "output_type": "stream",
     "text": [
      " 58%|█████▊    | 56/96 [01:54<01:21,  2.05s/it]"
     ]
    },
    {
     "name": "stdout",
     "output_type": "stream",
     "text": [
      "eulergpu_outcomes_demo written under resources.\n",
      "center_of_mass_demo written under resources.\n",
      "euler_parameters_demo written under resources.\n"
     ]
    },
    {
     "name": "stderr",
     "output_type": "stream",
     "text": [
      " 59%|█████▉    | 57/96 [01:57<01:19,  2.05s/it]"
     ]
    },
    {
     "name": "stdout",
     "output_type": "stream",
     "text": [
      "eulergpu_outcomes_demo written under resources.\n",
      "center_of_mass_demo written under resources.\n",
      "euler_parameters_demo written under resources.\n"
     ]
    },
    {
     "name": "stderr",
     "output_type": "stream",
     "text": [
      " 60%|██████    | 58/96 [01:59<01:17,  2.05s/it]"
     ]
    },
    {
     "name": "stdout",
     "output_type": "stream",
     "text": [
      "eulergpu_outcomes_demo written under resources.\n",
      "center_of_mass_demo written under resources.\n",
      "euler_parameters_demo written under resources.\n"
     ]
    },
    {
     "name": "stderr",
     "output_type": "stream",
     "text": [
      " 61%|██████▏   | 59/96 [02:01<01:15,  2.04s/it]"
     ]
    },
    {
     "name": "stdout",
     "output_type": "stream",
     "text": [
      "eulergpu_outcomes_demo written under resources.\n",
      "center_of_mass_demo written under resources.\n",
      "euler_parameters_demo written under resources.\n"
     ]
    },
    {
     "name": "stderr",
     "output_type": "stream",
     "text": [
      " 62%|██████▎   | 60/96 [02:03<01:13,  2.03s/it]"
     ]
    },
    {
     "name": "stdout",
     "output_type": "stream",
     "text": [
      "eulergpu_outcomes_demo written under resources.\n",
      "center_of_mass_demo written under resources.\n",
      "euler_parameters_demo written under resources.\n"
     ]
    },
    {
     "name": "stderr",
     "output_type": "stream",
     "text": [
      " 64%|██████▎   | 61/96 [02:05<01:10,  2.03s/it]"
     ]
    },
    {
     "name": "stdout",
     "output_type": "stream",
     "text": [
      "eulergpu_outcomes_demo written under resources.\n",
      "center_of_mass_demo written under resources.\n",
      "euler_parameters_demo written under resources.\n"
     ]
    },
    {
     "name": "stderr",
     "output_type": "stream",
     "text": [
      " 65%|██████▍   | 62/96 [02:07<01:09,  2.04s/it]"
     ]
    },
    {
     "name": "stdout",
     "output_type": "stream",
     "text": [
      "eulergpu_outcomes_demo written under resources.\n",
      "center_of_mass_demo written under resources.\n",
      "euler_parameters_demo written under resources.\n"
     ]
    },
    {
     "name": "stderr",
     "output_type": "stream",
     "text": [
      " 66%|██████▌   | 63/96 [02:09<01:07,  2.04s/it]"
     ]
    },
    {
     "name": "stdout",
     "output_type": "stream",
     "text": [
      "eulergpu_outcomes_demo written under resources.\n",
      "center_of_mass_demo written under resources.\n",
      "euler_parameters_demo written under resources.\n"
     ]
    },
    {
     "name": "stderr",
     "output_type": "stream",
     "text": [
      " 67%|██████▋   | 64/96 [02:11<01:04,  2.03s/it]"
     ]
    },
    {
     "name": "stdout",
     "output_type": "stream",
     "text": [
      "eulergpu_outcomes_demo written under resources.\n",
      "center_of_mass_demo written under resources.\n",
      "euler_parameters_demo written under resources.\n"
     ]
    },
    {
     "name": "stderr",
     "output_type": "stream",
     "text": [
      " 68%|██████▊   | 65/96 [02:13<01:03,  2.04s/it]"
     ]
    },
    {
     "name": "stdout",
     "output_type": "stream",
     "text": [
      "eulergpu_outcomes_demo written under resources.\n",
      "center_of_mass_demo written under resources.\n",
      "euler_parameters_demo written under resources.\n"
     ]
    },
    {
     "name": "stderr",
     "output_type": "stream",
     "text": [
      " 69%|██████▉   | 66/96 [02:15<01:01,  2.05s/it]"
     ]
    },
    {
     "name": "stdout",
     "output_type": "stream",
     "text": [
      "eulergpu_outcomes_demo written under resources.\n",
      "center_of_mass_demo written under resources.\n",
      "euler_parameters_demo written under resources.\n"
     ]
    },
    {
     "name": "stderr",
     "output_type": "stream",
     "text": [
      " 70%|██████▉   | 67/96 [02:17<00:59,  2.04s/it]"
     ]
    },
    {
     "name": "stdout",
     "output_type": "stream",
     "text": [
      "eulergpu_outcomes_demo written under resources.\n",
      "center_of_mass_demo written under resources.\n",
      "euler_parameters_demo written under resources.\n"
     ]
    },
    {
     "name": "stderr",
     "output_type": "stream",
     "text": [
      " 71%|███████   | 68/96 [02:19<00:57,  2.05s/it]"
     ]
    },
    {
     "name": "stdout",
     "output_type": "stream",
     "text": [
      "eulergpu_outcomes_demo written under resources.\n",
      "center_of_mass_demo written under resources.\n",
      "euler_parameters_demo written under resources.\n"
     ]
    },
    {
     "name": "stderr",
     "output_type": "stream",
     "text": [
      " 72%|███████▏  | 69/96 [02:21<00:55,  2.07s/it]"
     ]
    },
    {
     "name": "stdout",
     "output_type": "stream",
     "text": [
      "eulergpu_outcomes_demo written under resources.\n",
      "center_of_mass_demo written under resources.\n",
      "euler_parameters_demo written under resources.\n"
     ]
    },
    {
     "name": "stderr",
     "output_type": "stream",
     "text": [
      " 73%|███████▎  | 70/96 [02:23<00:53,  2.07s/it]"
     ]
    },
    {
     "name": "stdout",
     "output_type": "stream",
     "text": [
      "eulergpu_outcomes_demo written under resources.\n",
      "center_of_mass_demo written under resources.\n",
      "euler_parameters_demo written under resources.\n"
     ]
    },
    {
     "name": "stderr",
     "output_type": "stream",
     "text": [
      " 74%|███████▍  | 71/96 [02:25<00:51,  2.06s/it]"
     ]
    },
    {
     "name": "stdout",
     "output_type": "stream",
     "text": [
      "eulergpu_outcomes_demo written under resources.\n",
      "center_of_mass_demo written under resources.\n",
      "euler_parameters_demo written under resources.\n"
     ]
    },
    {
     "name": "stderr",
     "output_type": "stream",
     "text": [
      " 75%|███████▌  | 72/96 [02:27<00:49,  2.05s/it]"
     ]
    },
    {
     "name": "stdout",
     "output_type": "stream",
     "text": [
      "eulergpu_outcomes_demo written under resources.\n",
      "center_of_mass_demo written under resources.\n",
      "euler_parameters_demo written under resources.\n"
     ]
    },
    {
     "name": "stderr",
     "output_type": "stream",
     "text": [
      " 76%|███████▌  | 73/96 [02:29<00:47,  2.07s/it]"
     ]
    },
    {
     "name": "stdout",
     "output_type": "stream",
     "text": [
      "eulergpu_outcomes_demo written under resources.\n",
      "center_of_mass_demo written under resources.\n",
      "euler_parameters_demo written under resources.\n"
     ]
    },
    {
     "name": "stderr",
     "output_type": "stream",
     "text": [
      " 77%|███████▋  | 74/96 [02:31<00:45,  2.07s/it]"
     ]
    },
    {
     "name": "stdout",
     "output_type": "stream",
     "text": [
      "eulergpu_outcomes_demo written under resources.\n",
      "center_of_mass_demo written under resources.\n",
      "euler_parameters_demo written under resources.\n"
     ]
    },
    {
     "name": "stderr",
     "output_type": "stream",
     "text": [
      " 78%|███████▊  | 75/96 [02:34<00:44,  2.11s/it]"
     ]
    },
    {
     "name": "stdout",
     "output_type": "stream",
     "text": [
      "eulergpu_outcomes_demo written under resources.\n",
      "center_of_mass_demo written under resources.\n",
      "euler_parameters_demo written under resources.\n"
     ]
    },
    {
     "name": "stderr",
     "output_type": "stream",
     "text": [
      " 79%|███████▉  | 76/96 [02:36<00:41,  2.08s/it]"
     ]
    },
    {
     "name": "stdout",
     "output_type": "stream",
     "text": [
      "eulergpu_outcomes_demo written under resources.\n",
      "center_of_mass_demo written under resources.\n",
      "euler_parameters_demo written under resources.\n"
     ]
    },
    {
     "name": "stderr",
     "output_type": "stream",
     "text": [
      " 80%|████████  | 77/96 [02:38<00:38,  2.05s/it]"
     ]
    },
    {
     "name": "stdout",
     "output_type": "stream",
     "text": [
      "eulergpu_outcomes_demo written under resources.\n",
      "center_of_mass_demo written under resources.\n",
      "euler_parameters_demo written under resources.\n"
     ]
    },
    {
     "name": "stderr",
     "output_type": "stream",
     "text": [
      " 81%|████████▏ | 78/96 [02:40<00:36,  2.04s/it]"
     ]
    },
    {
     "name": "stdout",
     "output_type": "stream",
     "text": [
      "eulergpu_outcomes_demo written under resources.\n",
      "center_of_mass_demo written under resources.\n",
      "euler_parameters_demo written under resources.\n"
     ]
    },
    {
     "name": "stderr",
     "output_type": "stream",
     "text": [
      " 82%|████████▏ | 79/96 [02:42<00:34,  2.05s/it]"
     ]
    },
    {
     "name": "stdout",
     "output_type": "stream",
     "text": [
      "eulergpu_outcomes_demo written under resources.\n",
      "center_of_mass_demo written under resources.\n",
      "euler_parameters_demo written under resources.\n"
     ]
    },
    {
     "name": "stderr",
     "output_type": "stream",
     "text": [
      " 83%|████████▎ | 80/96 [02:44<00:32,  2.04s/it]"
     ]
    },
    {
     "name": "stdout",
     "output_type": "stream",
     "text": [
      "eulergpu_outcomes_demo written under resources.\n",
      "center_of_mass_demo written under resources.\n",
      "euler_parameters_demo written under resources.\n"
     ]
    },
    {
     "name": "stderr",
     "output_type": "stream",
     "text": [
      " 84%|████████▍ | 81/96 [02:46<00:30,  2.04s/it]"
     ]
    },
    {
     "name": "stdout",
     "output_type": "stream",
     "text": [
      "eulergpu_outcomes_demo written under resources.\n",
      "center_of_mass_demo written under resources.\n",
      "euler_parameters_demo written under resources.\n"
     ]
    },
    {
     "name": "stderr",
     "output_type": "stream",
     "text": [
      " 85%|████████▌ | 82/96 [02:48<00:28,  2.04s/it]"
     ]
    },
    {
     "name": "stdout",
     "output_type": "stream",
     "text": [
      "eulergpu_outcomes_demo written under resources.\n",
      "center_of_mass_demo written under resources.\n",
      "euler_parameters_demo written under resources.\n"
     ]
    },
    {
     "name": "stderr",
     "output_type": "stream",
     "text": [
      " 86%|████████▋ | 83/96 [02:50<00:26,  2.02s/it]"
     ]
    },
    {
     "name": "stdout",
     "output_type": "stream",
     "text": [
      "eulergpu_outcomes_demo written under resources.\n",
      "center_of_mass_demo written under resources.\n",
      "euler_parameters_demo written under resources.\n"
     ]
    },
    {
     "name": "stderr",
     "output_type": "stream",
     "text": [
      " 88%|████████▊ | 84/96 [02:52<00:24,  2.04s/it]"
     ]
    },
    {
     "name": "stdout",
     "output_type": "stream",
     "text": [
      "eulergpu_outcomes_demo written under resources.\n",
      "center_of_mass_demo written under resources.\n",
      "euler_parameters_demo written under resources.\n"
     ]
    },
    {
     "name": "stderr",
     "output_type": "stream",
     "text": [
      " 89%|████████▊ | 85/96 [02:54<00:22,  2.04s/it]"
     ]
    },
    {
     "name": "stdout",
     "output_type": "stream",
     "text": [
      "eulergpu_outcomes_demo written under resources.\n",
      "center_of_mass_demo written under resources.\n",
      "euler_parameters_demo written under resources.\n"
     ]
    },
    {
     "name": "stderr",
     "output_type": "stream",
     "text": [
      " 90%|████████▉ | 86/96 [02:56<00:20,  2.03s/it]"
     ]
    },
    {
     "name": "stdout",
     "output_type": "stream",
     "text": [
      "eulergpu_outcomes_demo written under resources.\n",
      "center_of_mass_demo written under resources.\n",
      "euler_parameters_demo written under resources.\n"
     ]
    },
    {
     "name": "stderr",
     "output_type": "stream",
     "text": [
      " 91%|█████████ | 87/96 [02:58<00:18,  2.03s/it]"
     ]
    },
    {
     "name": "stdout",
     "output_type": "stream",
     "text": [
      "eulergpu_outcomes_demo written under resources.\n",
      "center_of_mass_demo written under resources.\n",
      "euler_parameters_demo written under resources.\n"
     ]
    },
    {
     "name": "stderr",
     "output_type": "stream",
     "text": [
      " 92%|█████████▏| 88/96 [03:00<00:16,  2.02s/it]"
     ]
    },
    {
     "name": "stdout",
     "output_type": "stream",
     "text": [
      "eulergpu_outcomes_demo written under resources.\n",
      "center_of_mass_demo written under resources.\n",
      "euler_parameters_demo written under resources.\n"
     ]
    },
    {
     "name": "stderr",
     "output_type": "stream",
     "text": [
      " 93%|█████████▎| 89/96 [03:02<00:14,  2.05s/it]"
     ]
    },
    {
     "name": "stdout",
     "output_type": "stream",
     "text": [
      "eulergpu_outcomes_demo written under resources.\n",
      "center_of_mass_demo written under resources.\n",
      "euler_parameters_demo written under resources.\n"
     ]
    },
    {
     "name": "stderr",
     "output_type": "stream",
     "text": [
      " 94%|█████████▍| 90/96 [03:04<00:12,  2.05s/it]"
     ]
    },
    {
     "name": "stdout",
     "output_type": "stream",
     "text": [
      "eulergpu_outcomes_demo written under resources.\n",
      "center_of_mass_demo written under resources.\n",
      "euler_parameters_demo written under resources.\n"
     ]
    },
    {
     "name": "stderr",
     "output_type": "stream",
     "text": [
      " 95%|█████████▍| 91/96 [03:06<00:10,  2.04s/it]"
     ]
    },
    {
     "name": "stdout",
     "output_type": "stream",
     "text": [
      "eulergpu_outcomes_demo written under resources.\n",
      "center_of_mass_demo written under resources.\n",
      "euler_parameters_demo written under resources.\n"
     ]
    },
    {
     "name": "stderr",
     "output_type": "stream",
     "text": [
      " 96%|█████████▌| 92/96 [03:08<00:08,  2.05s/it]"
     ]
    },
    {
     "name": "stdout",
     "output_type": "stream",
     "text": [
      "eulergpu_outcomes_demo written under resources.\n",
      "center_of_mass_demo written under resources.\n",
      "euler_parameters_demo written under resources.\n"
     ]
    },
    {
     "name": "stderr",
     "output_type": "stream",
     "text": [
      " 97%|█████████▋| 93/96 [03:10<00:06,  2.08s/it]"
     ]
    },
    {
     "name": "stdout",
     "output_type": "stream",
     "text": [
      "eulergpu_outcomes_demo written under resources.\n",
      "center_of_mass_demo written under resources.\n",
      "euler_parameters_demo written under resources.\n"
     ]
    },
    {
     "name": "stderr",
     "output_type": "stream",
     "text": [
      " 98%|█████████▊| 94/96 [03:12<00:04,  2.06s/it]"
     ]
    },
    {
     "name": "stdout",
     "output_type": "stream",
     "text": [
      "eulergpu_outcomes_demo written under resources.\n",
      "center_of_mass_demo written under resources.\n",
      "euler_parameters_demo written under resources.\n"
     ]
    },
    {
     "name": "stderr",
     "output_type": "stream",
     "text": [
      " 99%|█████████▉| 95/96 [03:14<00:02,  2.07s/it]"
     ]
    },
    {
     "name": "stdout",
     "output_type": "stream",
     "text": [
      "eulergpu_outcomes_demo written under resources.\n",
      "center_of_mass_demo written under resources.\n",
      "euler_parameters_demo written under resources.\n"
     ]
    },
    {
     "name": "stderr",
     "output_type": "stream",
     "text": [
      "100%|██████████| 96/96 [03:16<00:00,  2.05s/it]"
     ]
    },
    {
     "name": "stdout",
     "output_type": "stream",
     "text": [
      "eulergpu_outcomes_demo written under resources.\n",
      "center_of_mass_demo written under resources.\n",
      "euler_parameters_demo written under resources.\n"
     ]
    },
    {
     "name": "stderr",
     "output_type": "stream",
     "text": [
      "\n"
     ]
    },
    {
     "name": "stdout",
     "output_type": "stream",
     "text": [
      "eulergpu_outcomes_demo written under resources.\n",
      "center_of_mass_demo written under resources.\n",
      "euler_parameters_demo written under resources.\n"
     ]
    }
   ],
   "source": [
    "#  `EulerRegistrationProcessor` performs Euler registration on pairs of images in `problem_file`\n",
    "processor = EulerRegistrationProcessor(\n",
    "    target_image_shape,\n",
    "    save_directory,\n",
    "    problem_file,\n",
    "    device_name = \"cuda:0\"\n",
    ")\n",
    "\n",
    "processor.process_datasets()"
   ]
  },
  {
   "cell_type": "markdown",
   "id": "da4100af-cd15-42d7-9701-3c1ce3d960bb",
   "metadata": {},
   "source": [
    "#### RFP images after registration"
   ]
  },
  {
   "cell_type": "code",
   "execution_count": 5,
   "id": "f2e5faf0-04dc-49a7-ad64-ab75a1fd49fb",
   "metadata": {},
   "outputs": [],
   "source": [
    "import matplotlib.pyplot as plt\n",
    "import h5py\n",
    "import random"
   ]
  },
  {
   "cell_type": "code",
   "execution_count": 6,
   "id": "cd3cbd24-26cc-4926-9418-33aa62453541",
   "metadata": {},
   "outputs": [
    {
     "name": "stdout",
     "output_type": "stream",
     "text": [
      "problems registered: ['1002to1197', '1015to1127', '1025to1514', '103to642', '108to1357', '1124to1347', '116to740', '11to719', '1213to1522', '1215to1229', '1270to1455', '1276to1510', '1290to1311', '1290to1391', '1292to1328', '1320to1586', '1336to1455', '1372to1465', '1391to1404', '141to1358', '158to535', '167to983', '175to555', '18to605', '198to1183', '199to1565', '19to517', '209to455', '222to1408', '230to866', '241to1502', '266to509', '266to844', '273to770', '274to995', '298to1579', '304to933', '319to1097', '330to1585', '332to1558', '355to740', '371to682', '374to950', '385to672', '404to660', '406to997', '412to643', '415to1189', '419to1333', '449to1563', '44to824', '483to754', '493to1397', '500to933', '50to276', '516to1018', '517to1119', '521to712', '530to614', '533to895', '548to1066', '548to1241', '549to840', '54to891', '558to1082', '564to567', '569to775', '580to713', '584to1052', '592to1279', '598to690', '619to1329', '62to336', '631to851', '649to1412', '662to1583', '671to974', '680to1506', '723to889', '725to1501', '754to1357', '769to818', '76to761', '779to958', '799to1510', '79to650', '83to644', '881to919', '892to1377', '899to1548', '89to1118', '904to1332', '906to1195', '907to1485', '953to974', '995to1266']\n",
      "Show problem: 374to950\n"
     ]
    },
    {
     "data": {
      "image/png": "[encoded data removed]",
      "text/plain": [
       "<Figure size 800x800 with 2 Axes>"
      ]
     },
     "metadata": {},
     "output_type": "display_data"
    }
   ],
   "source": [
    "with h5py.File(f\"{save_directory}/train/nonaugmented/2022-01-17-01/moving_images.h5\", \"r\") as f:\n",
    "    problems = list(f.keys())\n",
    "print(f\"problems registered: {problems}\")\n",
    "\n",
    "problem = random.choice(problems)\n",
    "print(f\"Show problem: {problem}\")\n",
    "\n",
    "with h5py.File(f\"{save_directory}/train/nonaugmented/2022-01-17-01/moving_images.h5\", \"r\") as f:\n",
    "    moving_image = f[problem][:]\n",
    "\n",
    "with h5py.File(f\"{save_directory}/train/nonaugmented/2022-01-17-01/fixed_images.h5\", \"r\") as f:\n",
    "    fixed_image = f[problem][:]\n",
    "\n",
    "fig, axes = plt.subplots(1, 2, figsize=(8, 8))\n",
    "axes[0].imshow(moving_image.max(2))\n",
    "axes[0].set_title(\"moving image\", fontsize=20);\n",
    "axes[1].imshow(fixed_image.max(2))\n",
    "axes[1].set_title(\"fixed image\", fontsize=20);"
   ]
  },
  {
   "cell_type": "markdown",
   "id": "ad5a5ee3-701a-47ba-a79a-330eb36252a3",
   "metadata": {},
   "source": [
    "### Euler registration on GFP images"
   ]
  },
  {
   "cell_type": "code",
   "execution_count": null,
   "id": "c36d71c3-12c7-4962-a9bf-c54ebd793cf7",
   "metadata": {},
   "outputs": [],
   "source": [
    "from warp_rfp import FPImageWarper"
   ]
  },
  {
   "cell_type": "code",
   "execution_count": null,
   "id": "42dcad67-78bc-43ea-ae89-4e083b3bae04",
   "metadata": {},
   "outputs": [],
   "source": [
    "target_image_shape = (284, 120, 64)\n",
    "save_directory = \"/scratch/nar8991/computer_vision/data/Atanas_processed\"\n",
    "problem_file = \"/scratch/nar8991/computer_vision/BrainAlignNet/scripts/data_preparation/resources/registration_problems_gfp.json\"\n",
    "# `FPImageWarper` is for Euler-transforming images with known parameters\n",
    "# the parameters are saved under `resources` in the current directory by running the previous cells\n",
    "\n",
    "processor = FPImageWarper(\n",
    "    target_image_shape,\n",
    "    save_directory,\n",
    "    problem_file)\n",
    "\n",
    "processor.process_datasets()"
   ]
  },
  {
   "cell_type": "code",
   "execution_count": 1,
   "id": "d7ef0d8c-708e-41be-8731-ef6d35f1db98",
   "metadata": {},
   "outputs": [
    {
     "name": "stdout",
     "output_type": "stream",
     "text": [
      "594\n",
      "176121\n"
     ]
    }
   ],
   "source": [
    "# !python gen_registration_text.py"
   ]
  },
  {
   "cell_type": "code",
   "execution_count": 2,
   "id": "feaf0661-d6c1-459f-a68c-5cfb5690d6f4",
   "metadata": {},
   "outputs": [
    {
     "name": "stdout",
     "output_type": "stream",
     "text": [
      "100%|█████████████████████████████████████████████| 1/1 [00:00<00:00, 27.61it/s]\n",
      "100%|█████████████████████████████████████████████| 1/1 [00:00<00:00, 25.69it/s]\n",
      "0it [00:00, ?it/s]\n",
      "registration_problems_gfp written under resources.\n"
     ]
    }
   ],
   "source": [
    "# !python sample.py"
   ]
  },
  {
   "cell_type": "markdown",
   "id": "15efae6d-f887-4c79-915e-fd1f9c4d44b3",
   "metadata": {},
   "source": [
    "#### GFP images after Euler registration"
   ]
  },
  {
   "cell_type": "code",
   "execution_count": 9,
   "id": "24ae8bdb-2050-46cc-a6f4-e8d497230b55",
   "metadata": {},
   "outputs": [],
   "source": [
    "import matplotlib.pyplot as plt\n",
    "import h5py\n",
    "import random"
   ]
  },
  {
   "cell_type": "code",
   "execution_count": 10,
   "id": "f235d6b6-e1db-4620-a9d4-fbd71f22de7c",
   "metadata": {},
   "outputs": [
    {
     "ename": "FileNotFoundError",
     "evalue": "[Errno 2] Unable to synchronously open file (unable to open file: name = '/scratch/nar8991/computer_vision/output/demo/euler_registered_GFP/train/nonaugmented/2022-03-31-01/moving_images.h5', errno = 2, error message = 'No such file or directory', flags = 0, o_flags = 0)",
     "output_type": "error",
     "traceback": [
      "\u001b[0;31m---------------------------------------------------------------------------\u001b[0m",
      "\u001b[0;31mFileNotFoundError\u001b[0m                         Traceback (most recent call last)",
      "Cell \u001b[0;32mIn[10], line 1\u001b[0m\n\u001b[0;32m----> 1\u001b[0m \u001b[38;5;28;01mwith\u001b[39;00m \u001b[43mh5py\u001b[49m\u001b[38;5;241;43m.\u001b[39;49m\u001b[43mFile\u001b[49m\u001b[43m(\u001b[49m\u001b[38;5;124;43mf\u001b[39;49m\u001b[38;5;124;43m\"\u001b[39;49m\u001b[38;5;132;43;01m{\u001b[39;49;00m\u001b[43msave_directory\u001b[49m\u001b[38;5;132;43;01m}\u001b[39;49;00m\u001b[38;5;124;43m/train/nonaugmented/2022-03-31-01/moving_images.h5\u001b[39;49m\u001b[38;5;124;43m\"\u001b[39;49m\u001b[43m,\u001b[49m\u001b[43m \u001b[49m\u001b[38;5;124;43m\"\u001b[39;49m\u001b[38;5;124;43mr\u001b[39;49m\u001b[38;5;124;43m\"\u001b[39;49m\u001b[43m)\u001b[49m \u001b[38;5;28;01mas\u001b[39;00m f:\n\u001b[1;32m      2\u001b[0m     problems \u001b[38;5;241m=\u001b[39m \u001b[38;5;28mlist\u001b[39m(f\u001b[38;5;241m.\u001b[39mkeys())\n\u001b[1;32m      3\u001b[0m \u001b[38;5;28mprint\u001b[39m(\u001b[38;5;124mf\u001b[39m\u001b[38;5;124m\"\u001b[39m\u001b[38;5;124mproblems registered: \u001b[39m\u001b[38;5;132;01m{\u001b[39;00mproblems\u001b[38;5;132;01m}\u001b[39;00m\u001b[38;5;124m\"\u001b[39m)\n",
      "File \u001b[0;32m/ext3/miniforge3/lib/python3.10/site-packages/h5py/_hl/files.py:561\u001b[0m, in \u001b[0;36mFile.__init__\u001b[0;34m(self, name, mode, driver, libver, userblock_size, swmr, rdcc_nslots, rdcc_nbytes, rdcc_w0, track_order, fs_strategy, fs_persist, fs_threshold, fs_page_size, page_buf_size, min_meta_keep, min_raw_keep, locking, alignment_threshold, alignment_interval, meta_block_size, **kwds)\u001b[0m\n\u001b[1;32m    552\u001b[0m     fapl \u001b[38;5;241m=\u001b[39m make_fapl(driver, libver, rdcc_nslots, rdcc_nbytes, rdcc_w0,\n\u001b[1;32m    553\u001b[0m                      locking, page_buf_size, min_meta_keep, min_raw_keep,\n\u001b[1;32m    554\u001b[0m                      alignment_threshold\u001b[38;5;241m=\u001b[39malignment_threshold,\n\u001b[1;32m    555\u001b[0m                      alignment_interval\u001b[38;5;241m=\u001b[39malignment_interval,\n\u001b[1;32m    556\u001b[0m                      meta_block_size\u001b[38;5;241m=\u001b[39mmeta_block_size,\n\u001b[1;32m    557\u001b[0m                      \u001b[38;5;241m*\u001b[39m\u001b[38;5;241m*\u001b[39mkwds)\n\u001b[1;32m    558\u001b[0m     fcpl \u001b[38;5;241m=\u001b[39m make_fcpl(track_order\u001b[38;5;241m=\u001b[39mtrack_order, fs_strategy\u001b[38;5;241m=\u001b[39mfs_strategy,\n\u001b[1;32m    559\u001b[0m                      fs_persist\u001b[38;5;241m=\u001b[39mfs_persist, fs_threshold\u001b[38;5;241m=\u001b[39mfs_threshold,\n\u001b[1;32m    560\u001b[0m                      fs_page_size\u001b[38;5;241m=\u001b[39mfs_page_size)\n\u001b[0;32m--> 561\u001b[0m     fid \u001b[38;5;241m=\u001b[39m \u001b[43mmake_fid\u001b[49m\u001b[43m(\u001b[49m\u001b[43mname\u001b[49m\u001b[43m,\u001b[49m\u001b[43m \u001b[49m\u001b[43mmode\u001b[49m\u001b[43m,\u001b[49m\u001b[43m \u001b[49m\u001b[43muserblock_size\u001b[49m\u001b[43m,\u001b[49m\u001b[43m \u001b[49m\u001b[43mfapl\u001b[49m\u001b[43m,\u001b[49m\u001b[43m \u001b[49m\u001b[43mfcpl\u001b[49m\u001b[43m,\u001b[49m\u001b[43m \u001b[49m\u001b[43mswmr\u001b[49m\u001b[38;5;241;43m=\u001b[39;49m\u001b[43mswmr\u001b[49m\u001b[43m)\u001b[49m\n\u001b[1;32m    563\u001b[0m \u001b[38;5;28;01mif\u001b[39;00m \u001b[38;5;28misinstance\u001b[39m(libver, \u001b[38;5;28mtuple\u001b[39m):\n\u001b[1;32m    564\u001b[0m     \u001b[38;5;28mself\u001b[39m\u001b[38;5;241m.\u001b[39m_libver \u001b[38;5;241m=\u001b[39m libver\n",
      "File \u001b[0;32m/ext3/miniforge3/lib/python3.10/site-packages/h5py/_hl/files.py:235\u001b[0m, in \u001b[0;36mmake_fid\u001b[0;34m(name, mode, userblock_size, fapl, fcpl, swmr)\u001b[0m\n\u001b[1;32m    233\u001b[0m     \u001b[38;5;28;01mif\u001b[39;00m swmr \u001b[38;5;129;01mand\u001b[39;00m swmr_support:\n\u001b[1;32m    234\u001b[0m         flags \u001b[38;5;241m|\u001b[39m\u001b[38;5;241m=\u001b[39m h5f\u001b[38;5;241m.\u001b[39mACC_SWMR_READ\n\u001b[0;32m--> 235\u001b[0m     fid \u001b[38;5;241m=\u001b[39m \u001b[43mh5f\u001b[49m\u001b[38;5;241;43m.\u001b[39;49m\u001b[43mopen\u001b[49m\u001b[43m(\u001b[49m\u001b[43mname\u001b[49m\u001b[43m,\u001b[49m\u001b[43m \u001b[49m\u001b[43mflags\u001b[49m\u001b[43m,\u001b[49m\u001b[43m \u001b[49m\u001b[43mfapl\u001b[49m\u001b[38;5;241;43m=\u001b[39;49m\u001b[43mfapl\u001b[49m\u001b[43m)\u001b[49m\n\u001b[1;32m    236\u001b[0m \u001b[38;5;28;01melif\u001b[39;00m mode \u001b[38;5;241m==\u001b[39m \u001b[38;5;124m'\u001b[39m\u001b[38;5;124mr+\u001b[39m\u001b[38;5;124m'\u001b[39m:\n\u001b[1;32m    237\u001b[0m     fid \u001b[38;5;241m=\u001b[39m h5f\u001b[38;5;241m.\u001b[39mopen(name, h5f\u001b[38;5;241m.\u001b[39mACC_RDWR, fapl\u001b[38;5;241m=\u001b[39mfapl)\n",
      "File \u001b[0;32mh5py/_objects.pyx:54\u001b[0m, in \u001b[0;36mh5py._objects.with_phil.wrapper\u001b[0;34m()\u001b[0m\n",
      "File \u001b[0;32mh5py/_objects.pyx:55\u001b[0m, in \u001b[0;36mh5py._objects.with_phil.wrapper\u001b[0;34m()\u001b[0m\n",
      "File \u001b[0;32mh5py/h5f.pyx:102\u001b[0m, in \u001b[0;36mh5py.h5f.open\u001b[0;34m()\u001b[0m\n",
      "\u001b[0;31mFileNotFoundError\u001b[0m: [Errno 2] Unable to synchronously open file (unable to open file: name = '/scratch/nar8991/computer_vision/output/demo/euler_registered_GFP/train/nonaugmented/2022-03-31-01/moving_images.h5', errno = 2, error message = 'No such file or directory', flags = 0, o_flags = 0)"
     ]
    }
   ],
   "source": [
    "with h5py.File(f\"{save_directory}/train/nonaugmented/2022-03-31-01/moving_images.h5\", \"r\") as f:\n",
    "    problems = list(f.keys())\n",
    "print(f\"problems registered: {problems}\")\n",
    "\n",
    "problem = random.choice(problems)\n",
    "print(f\"Show problem: {problem}\")\n",
    "\n",
    "with h5py.File(f\"{save_directory}/train/nonaugmented/2022-03-31-01/moving_images.h5\", \"r\") as f:\n",
    "    moving_image = f[problem][:]\n",
    "\n",
    "with h5py.File(f\"{save_directory}/train/nonaugmented/2022-03-31-01/fixed_images.h5\", \"r\") as f:\n",
    "    fixed_image = f[problem][:]\n",
    "\n",
    "fig, axes = plt.subplots(1, 2, figsize=(8, 8))\n",
    "axes[0].imshow(moving_image.max(2))\n",
    "axes[0].set_title(\"moving image\", fontsize=20);\n",
    "axes[1].imshow(fixed_image.max(2))\n",
    "axes[1].set_title(\"fixed image\", fontsize=20);"
   ]
  },
  {
   "cell_type": "markdown",
   "id": "eb123aec-b753-41a0-88a3-be285c2881ab",
   "metadata": {},
   "source": [
    "### Euler registration on ROI images"
   ]
  },
  {
   "cell_type": "code",
   "execution_count": 11,
   "id": "9898d484-3b0e-4fa0-8ffd-5df1dda2b651",
   "metadata": {},
   "outputs": [],
   "source": [
    "from warp_roi import generate_rois"
   ]
  },
  {
   "cell_type": "code",
   "execution_count": 16,
   "id": "02d8ec4e-7436-4628-8693-5e237c3cda3d",
   "metadata": {},
   "outputs": [],
   "source": [
    "device_name = \"cuda:2\"\n",
    "target_image_shape = (284, 120, 64)\n",
    "\n",
    "# TO DO: regenerate problem file for where ROI are available\n",
    "save_directory = \"/scratch/nar8991/computer_vision/data/Atanas_processed\"\n",
    "\n",
    "problem_file = \"/scratch/nar8991/computer_vision/BrainAlignNet/scripts/data_preparation/resources/registration_problems_demo.json\""
   ]
  },
  {
   "cell_type": "code",
   "execution_count": 17,
   "id": "b9c2312d-185e-49ae-aa1e-76a15360417b",
   "metadata": {},
   "outputs": [
    {
     "name": "stderr",
     "output_type": "stream",
     "text": [
      "  0%|          | 0/96 [00:00<?, ?it/s]\n"
     ]
    },
    {
     "ename": "FileNotFoundError",
     "evalue": "[Errno 2] No such file or directory: '/scratch/nar8991/computer_vision/data//2022-01-17-01/register_labels/'",
     "output_type": "error",
     "traceback": [
      "\u001b[0;31m---------------------------------------------------------------------------\u001b[0m",
      "\u001b[0;31mFileNotFoundError\u001b[0m                         Traceback (most recent call last)",
      "Cell \u001b[0;32mIn[17], line 1\u001b[0m\n\u001b[0;32m----> 1\u001b[0m \u001b[43mgenerate_rois\u001b[49m\u001b[43m(\u001b[49m\n\u001b[1;32m      2\u001b[0m \u001b[43m    \u001b[49m\u001b[43mdevice_name\u001b[49m\u001b[43m,\u001b[49m\n\u001b[1;32m      3\u001b[0m \u001b[43m    \u001b[49m\u001b[43mtarget_image_shape\u001b[49m\u001b[43m,\u001b[49m\n\u001b[1;32m      4\u001b[0m \u001b[43m    \u001b[49m\u001b[43mproblem_file\u001b[49m\u001b[43m,\u001b[49m\n\u001b[1;32m      5\u001b[0m \u001b[43m    \u001b[49m\u001b[43msave_directory\u001b[49m\u001b[43m,\u001b[49m\n\u001b[1;32m      6\u001b[0m \u001b[43m    \u001b[49m\u001b[38;5;28;43;01mTrue\u001b[39;49;00m\u001b[43m)\u001b[49m\n",
      "File \u001b[0;32m/scratch/nar8991/computer_vision/BrainAlignNet/scripts/data_preparation/warp_roi.py:130\u001b[0m, in \u001b[0;36mgenerate_rois\u001b[0;34m(device_name, target_image_shape, problem_file, save_directory, simply_crop)\u001b[0m\n\u001b[1;32m    128\u001b[0m all_bad_problems \u001b[38;5;241m=\u001b[39m {\u001b[38;5;124m\"\u001b[39m\u001b[38;5;124mtrain\u001b[39m\u001b[38;5;124m\"\u001b[39m: {}, \u001b[38;5;124m\"\u001b[39m\u001b[38;5;124mvalid\u001b[39m\u001b[38;5;124m\"\u001b[39m: {}, \u001b[38;5;124m\"\u001b[39m\u001b[38;5;124mtest\u001b[39m\u001b[38;5;124m\"\u001b[39m: {}}\n\u001b[1;32m    129\u001b[0m \u001b[38;5;28;01mfor\u001b[39;00m dataset_type, datasets \u001b[38;5;129;01min\u001b[39;00m dataset_types\u001b[38;5;241m.\u001b[39mitems():\n\u001b[0;32m--> 130\u001b[0m     all_bad_problems[dataset_type] \u001b[38;5;241m=\u001b[39m \u001b[43mgenerate_roi\u001b[49m\u001b[43m(\u001b[49m\n\u001b[1;32m    131\u001b[0m \u001b[43m            \u001b[49m\u001b[43mdatasets\u001b[49m\u001b[43m,\u001b[49m\n\u001b[1;32m    132\u001b[0m \u001b[43m            \u001b[49m\u001b[43mdataset_type\u001b[49m\u001b[43m,\u001b[49m\n\u001b[1;32m    133\u001b[0m \u001b[43m            \u001b[49m\u001b[43mwarper\u001b[49m\u001b[43m,\u001b[49m\n\u001b[1;32m    134\u001b[0m \u001b[43m            \u001b[49m\u001b[43msave_directory\u001b[49m\u001b[43m,\u001b[49m\n\u001b[1;32m    135\u001b[0m \u001b[43m            \u001b[49m\u001b[43mproblem_dict\u001b[49m\u001b[43m,\u001b[49m\n\u001b[1;32m    136\u001b[0m \u001b[43m            \u001b[49m\u001b[43msimply_crop\u001b[49m\n\u001b[1;32m    137\u001b[0m \u001b[43m    \u001b[49m\u001b[43m)\u001b[49m\n\u001b[1;32m    138\u001b[0m write_to_json(all_bad_problems, \u001b[38;5;124mf\u001b[39m\u001b[38;5;124m\"\u001b[39m\u001b[38;5;124mbad_registration_problems\u001b[39m\u001b[38;5;124m\"\u001b[39m)\n",
      "File \u001b[0;32m/scratch/nar8991/computer_vision/BrainAlignNet/scripts/data_preparation/warp_roi.py:165\u001b[0m, in \u001b[0;36mgenerate_roi\u001b[0;34m(datasets, dataset_type, warper, save_directory, problem_dict, simply_crop)\u001b[0m\n\u001b[1;32m    163\u001b[0m \u001b[38;5;28;01mfor\u001b[39;00m problem \u001b[38;5;129;01min\u001b[39;00m tqdm(problems):\n\u001b[1;32m    164\u001b[0m     warper\u001b[38;5;241m.\u001b[39mregistration_problem \u001b[38;5;241m=\u001b[39m problem\n\u001b[0;32m--> 165\u001b[0m     label_dict \u001b[38;5;241m=\u001b[39m \u001b[43mwarper\u001b[49m\u001b[38;5;241;43m.\u001b[39;49m\u001b[43mwarp_label\u001b[49m\u001b[43m(\u001b[49m\u001b[43msimply_crop\u001b[49m\u001b[38;5;241;43m=\u001b[39;49m\u001b[43msimply_crop\u001b[49m\u001b[43m)\u001b[49m\n\u001b[1;32m    166\u001b[0m     \u001b[38;5;28;01mif\u001b[39;00m \u001b[38;5;28mlen\u001b[39m(label_dict) \u001b[38;5;241m>\u001b[39m \u001b[38;5;241m0\u001b[39m:\n\u001b[1;32m    167\u001b[0m         \u001b[38;5;28;01mif\u001b[39;00m simply_crop:\n",
      "File \u001b[0;32m/scratch/nar8991/computer_vision/BrainAlignNet/scripts/data_preparation/warp_roi.py:28\u001b[0m, in \u001b[0;36mROIWarper.warp_label\u001b[0;34m(self, simply_crop)\u001b[0m\n\u001b[1;32m     21\u001b[0m \u001b[38;5;28;01mdef\u001b[39;00m \u001b[38;5;21mwarp_label\u001b[39m(\n\u001b[1;32m     22\u001b[0m     \u001b[38;5;28mself\u001b[39m,\n\u001b[1;32m     23\u001b[0m     simply_crop: \u001b[38;5;28mbool\u001b[39m,\n\u001b[1;32m     24\u001b[0m ) \u001b[38;5;241m-\u001b[39m\u001b[38;5;241m>\u001b[39m Dict[\u001b[38;5;28mstr\u001b[39m, np\u001b[38;5;241m.\u001b[39mndarray]:\n\u001b[1;32m     25\u001b[0m \u001b[38;5;250m    \u001b[39m\u001b[38;5;124;03m\"\"\" Warp the ROI images with the Euler parameters obtained from\u001b[39;00m\n\u001b[1;32m     26\u001b[0m \u001b[38;5;124;03m    preprocessing the registration problems for training and validation. \"\"\"\u001b[39;00m\n\u001b[0;32m---> 28\u001b[0m     \u001b[38;5;28;01mif\u001b[39;00m \u001b[38;5;28;43mself\u001b[39;49m\u001b[38;5;241;43m.\u001b[39;49m\u001b[43m_label_exists\u001b[49m\u001b[43m(\u001b[49m\u001b[43m)\u001b[49m:\n\u001b[1;32m     29\u001b[0m         \u001b[38;5;28;01mreturn\u001b[39;00m \u001b[38;5;28mself\u001b[39m\u001b[38;5;241m.\u001b[39m_preprocess_image_roi(simply_crop)\n\u001b[1;32m     30\u001b[0m     \u001b[38;5;28;01melse\u001b[39;00m:\n",
      "File \u001b[0;32m/scratch/nar8991/computer_vision/BrainAlignNet/scripts/data_preparation/warp_roi.py:37\u001b[0m, in \u001b[0;36mROIWarper._label_exists\u001b[0;34m(self)\u001b[0m\n\u001b[1;32m     34\u001b[0m \u001b[38;5;28;01mdef\u001b[39;00m \u001b[38;5;21m_label_exists\u001b[39m(\u001b[38;5;28mself\u001b[39m):\n\u001b[1;32m     36\u001b[0m     \u001b[38;5;28;01mreturn\u001b[39;00m \u001b[38;5;28mself\u001b[39m\u001b[38;5;241m.\u001b[39mregistration_problem \u001b[38;5;129;01min\u001b[39;00m \\\n\u001b[0;32m---> 37\u001b[0m         \u001b[43mos\u001b[49m\u001b[38;5;241;43m.\u001b[39;49m\u001b[43mlistdir\u001b[49m\u001b[43m(\u001b[49m\u001b[38;5;124;43mf\u001b[39;49m\u001b[38;5;124;43m\"\u001b[39;49m\u001b[38;5;132;43;01m{\u001b[39;49;00m\u001b[38;5;28;43mself\u001b[39;49m\u001b[38;5;241;43m.\u001b[39;49m\u001b[43mlabel_path\u001b[49m\u001b[38;5;132;43;01m}\u001b[39;49;00m\u001b[38;5;124;43m/\u001b[39;49m\u001b[38;5;132;43;01m{\u001b[39;49;00m\u001b[38;5;28;43mself\u001b[39;49m\u001b[38;5;241;43m.\u001b[39;49m\u001b[43mdataset_name\u001b[49m\u001b[38;5;132;43;01m}\u001b[39;49;00m\u001b[38;5;124;43m/register_labels/\u001b[39;49m\u001b[38;5;124;43m\"\u001b[39;49m\u001b[43m)\u001b[49m\n",
      "\u001b[0;31mFileNotFoundError\u001b[0m: [Errno 2] No such file or directory: '/scratch/nar8991/computer_vision/data//2022-01-17-01/register_labels/'"
     ]
    }
   ],
   "source": [
    "generate_rois(\n",
    "    device_name,\n",
    "    target_image_shape,\n",
    "    problem_file,\n",
    "    save_directory,\n",
    "    True)"
   ]
  },
  {
   "cell_type": "markdown",
   "id": "0ff68355-5efb-434e-81f0-9814141de3c3",
   "metadata": {},
   "source": [
    "#### ROI images after Euler registration"
   ]
  },
  {
   "cell_type": "code",
   "execution_count": 1,
   "id": "4c99fd25-bcfd-4f21-beb2-ef4a880f8a95",
   "metadata": {},
   "outputs": [],
   "source": [
    "import matplotlib.pyplot as plt\n",
    "import h5py\n",
    "import random"
   ]
  },
  {
   "cell_type": "code",
   "execution_count": 2,
   "id": "4084cdb7-14be-45ef-9632-0862ca636bd4",
   "metadata": {},
   "outputs": [
    {
     "ename": "NameError",
     "evalue": "name 'save_directory' is not defined",
     "output_type": "error",
     "traceback": [
      "\u001b[0;31m---------------------------------------------------------------------------\u001b[0m",
      "\u001b[0;31mNameError\u001b[0m                                 Traceback (most recent call last)",
      "Cell \u001b[0;32mIn[2], line 1\u001b[0m\n\u001b[0;32m----> 1\u001b[0m \u001b[38;5;28;01mwith\u001b[39;00m h5py\u001b[38;5;241m.\u001b[39mFile(\u001b[38;5;124mf\u001b[39m\u001b[38;5;124m\"\u001b[39m\u001b[38;5;132;01m{\u001b[39;00m\u001b[43msave_directory\u001b[49m\u001b[38;5;132;01m}\u001b[39;00m\u001b[38;5;124m/train/nonaugmented/2022-02-08-04/moving_rois.h5\u001b[39m\u001b[38;5;124m\"\u001b[39m, \u001b[38;5;124m\"\u001b[39m\u001b[38;5;124mr\u001b[39m\u001b[38;5;124m\"\u001b[39m) \u001b[38;5;28;01mas\u001b[39;00m f:\n\u001b[1;32m      2\u001b[0m     problems \u001b[38;5;241m=\u001b[39m \u001b[38;5;28mlist\u001b[39m(f\u001b[38;5;241m.\u001b[39mkeys())\n\u001b[1;32m      3\u001b[0m \u001b[38;5;28mprint\u001b[39m(\u001b[38;5;124mf\u001b[39m\u001b[38;5;124m\"\u001b[39m\u001b[38;5;124mproblems registered: \u001b[39m\u001b[38;5;132;01m{\u001b[39;00mproblems\u001b[38;5;132;01m}\u001b[39;00m\u001b[38;5;124m\"\u001b[39m)\n",
      "\u001b[0;31mNameError\u001b[0m: name 'save_directory' is not defined"
     ]
    }
   ],
   "source": [
    "with h5py.File(f\"{save_directory}/train/nonaugmented/2022-02-08-04/moving_rois.h5\", \"r\") as f:\n",
    "    problems = list(f.keys())\n",
    "print(f\"problems registered: {problems}\")\n",
    "\n",
    "problem = random.choice(problems)\n",
    "print(f\"Show problem: {problem}\")\n",
    "\n",
    "with h5py.File(f\"{save_directory}/train/nonaugmented/2022-02-08-04/moving_rois.h5\", \"r\") as f:\n",
    "    moving_roi = f[problem][:]\n",
    "\n",
    "with h5py.File(f\"{save_directory}/train/nonaugmented/2022-02-08-04/fixed_rois.h5\", \"r\") as f:\n",
    "    fixed_roi = f[problem][:]\n",
    "\n",
    "fig, axes = plt.subplots(1, 2, figsize=(8, 8))\n",
    "axes[0].imshow(moving_roi.max(2))\n",
    "axes[0].set_title(\"moving ROI\", fontsize=20);\n",
    "axes[1].imshow(fixed_roi.max(2))\n",
    "axes[1].set_title(\"fixed ROI\", fontsize=20);"
   ]
  },
  {
   "cell_type": "markdown",
   "id": "0be9d200-c3d5-4d50-9198-0929dda96195",
   "metadata": {},
   "source": [
    "### Generate centroid labels from Euler-registered ROI images"
   ]
  },
  {
   "cell_type": "code",
   "execution_count": 3,
   "id": "80c0e4f0-e69d-41c4-86c6-a373ff6f3408",
   "metadata": {},
   "outputs": [],
   "source": [
    "from label_centroids import CentroidLabel"
   ]
  },
  {
   "cell_type": "code",
   "execution_count": 4,
   "id": "d24c44ea-ebc3-4aaa-a1c6-7f252e4cd501",
   "metadata": {},
   "outputs": [
    {
     "name": "stderr",
     "output_type": "stream",
     "text": [
      "100%|██████████| 50/50 [00:29<00:00,  1.68it/s]\n",
      "100%|██████████| 50/50 [00:29<00:00,  1.67it/s]\n"
     ]
    }
   ],
   "source": [
    "dataset_path = \"/scratch/nar8991/computer_vision/data/EY\"\n",
    "\n",
    "centroid_labeler = CentroidLabel(dataset_path)\n",
    "centroid_labeler.create_all_labels()"
   ]
  },
  {
   "cell_type": "markdown",
   "id": "db6df7cb-dbad-40b0-86ff-e6c8f83dcd49",
   "metadata": {},
   "source": [
    "#### ROI images with centroid labels"
   ]
  },
  {
   "cell_type": "code",
   "execution_count": 5,
   "id": "86031f7a-794c-4796-8a58-5bfdb4b8d2bb",
   "metadata": {},
   "outputs": [],
   "source": [
    "import matplotlib.pyplot as plt\n",
    "import h5py\n",
    "import random"
   ]
  },
  {
   "cell_type": "code",
   "execution_count": 6,
   "id": "87551c01-8da2-4744-a359-99d2d372b720",
   "metadata": {},
   "outputs": [],
   "source": [
    "date = '20190925-04'"
   ]
  },
  {
   "cell_type": "code",
   "execution_count": 8,
   "id": "d7c9ca1f-b628-4315-829d-94ce830c930c",
   "metadata": {},
   "outputs": [
    {
     "name": "stdout",
     "output_type": "stream",
     "text": [
      "problems registered: ['107to593', '118to229', '128to184', '163to841', '170to279', '187to194', '208to637', '221to403', '227to129', '267to224', '271to260', '280to916', '282to40', '285to248', '378to664', '388to615', '399to906', '3to264', '418to911', '429to62', '435to419', '442to481', '467to837', '468to771', '470to460', '49to464', '515to307', '572to465', '577to752', '586to8', '58to819', '631to296', '657to448', '666to824', '670to301', '694to513', '704to574', '70to868', '716to809', '742to749', '75to387', '760to907', '789to149', '804to785', '836to876', '87to823', '891to892', '910to272', '923to711', '95to889']\n",
      "Show problem: 716to809\n"
     ]
    },
    {
     "data": {
      "image/png": "[encoded data removed]",
      "text/plain": [
       "<Figure size 800x800 with 2 Axes>"
      ]
     },
     "metadata": {},
     "output_type": "display_data"
    }
   ],
   "source": [
    "with h5py.File(f\"{dataset_path}/train/nonaugmented/{date}/moving_rois.h5\", \"r\") as f:\n",
    "    problems = list(f.keys())\n",
    "print(f\"problems registered: {problems}\")\n",
    "\n",
    "problem = random.choice(problems)\n",
    "print(f\"Show problem: {problem}\")\n",
    "\n",
    "with h5py.File(f\"{dataset_path}/train/nonaugmented/{date}/moving_rois.h5\", \"r\") as f:\n",
    "    moving_roi = f[problem][:]\n",
    "\n",
    "with h5py.File(f\"{dataset_path}/train/nonaugmented/{date}/fixed_rois.h5\", \"r\") as f:\n",
    "    fixed_roi = f[problem][:]\n",
    "\n",
    "with h5py.File(f\"{dataset_path}/train/nonaugmented/{date}/moving_labels.h5\", \"r\") as f:\n",
    "    moving_label = f[problem][:]\n",
    "\n",
    "with h5py.File(f\"{dataset_path}/train/nonaugmented/{date}/fixed_labels.h5\", \"r\") as f:\n",
    "    fixed_label = f[problem][:]\n",
    "\n",
    "fixed_xs = [x for (x, _, _) in fixed_label]\n",
    "fixed_ys = [y for (_, y, _) in fixed_label]\n",
    "moving_xs = [x for (x, _, _) in moving_label]\n",
    "moving_ys = [y for (_, y, _) in moving_label]\n",
    "\n",
    "fig, axes = plt.subplots(1, 2, figsize=(8, 8))\n",
    "\n",
    "axes[0].imshow(fixed_roi.max(2))\n",
    "axes[0].set_title(\"fixed ROI\", fontsize=20);\n",
    "\n",
    "axes[0].scatter(moving_ys, moving_xs, s=4, c='w');\n",
    "axes[0].invert_yaxis()\n",
    "\n",
    "axes[1].imshow(moving_roi.max(2))\n",
    "axes[1].set_title(\"moving ROI\", fontsize=20);\n",
    "\n",
    "axes[1].scatter(fixed_ys, fixed_xs, s=4,  c='w');\n",
    "axes[1].invert_yaxis()"
   ]
  },
  {
   "cell_type": "code",
   "execution_count": null,
   "id": "24ea3335-3693-472f-a4ab-9297be6bebe2",
   "metadata": {},
   "outputs": [],
   "source": []
  },
  {
   "cell_type": "code",
   "execution_count": null,
   "id": "7d1f3d2f-0053-4dac-98aa-97704ea5b562",
   "metadata": {},
   "outputs": [],
   "source": []
  }
 ],
 "metadata": {
  "kernelspec": {
   "display_name": "julia_works",
   "language": "python",
   "name": "julia_works"
  },
  "language_info": {
   "codemirror_mode": {
    "name": "ipython",
    "version": 3
   },
   "file_extension": ".py",
   "mimetype": "text/x-python",
   "name": "python",
   "nbconvert_exporter": "python",
   "pygments_lexer": "ipython3",
   "version": "3.10.15"
  }
 },
 "nbformat": 4,
 "nbformat_minor": 5
}
