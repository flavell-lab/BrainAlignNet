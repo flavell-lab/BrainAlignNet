{
 "cells": [
  {
   "cell_type": "code",
   "execution_count": 1,
   "id": "0761ea29-cf2f-4fdf-83f6-683d4b7d52fb",
   "metadata": {},
   "outputs": [],
   "source": [
    "import numpy as np\n",
    "from scipy.sparse import csr_matrix\n",
    "from collections import defaultdict\n",
    "from numpy.linalg import inv"
   ]
  },
  {
   "cell_type": "code",
   "execution_count": 2,
   "id": "9a6ba5f1-7af5-47e2-9290-e8d4c6b014e5",
   "metadata": {},
   "outputs": [],
   "source": [
    "label_map = {}\n",
    "for i in range(0, 133):\n",
    "    label_map[f'{i}'] = i"
   ]
  },
  {
   "cell_type": "code",
   "execution_count": 3,
   "id": "5c641864-630c-4344-a49d-01420e7c1436",
   "metadata": {},
   "outputs": [],
   "source": [
    "# Open the h5 file\n",
    "\n",
    "import h5py\n",
    "\n",
    "# Function to recursively load data from an HDF5 file into a Python dictionary\n",
    "def load_dict_from_h5(file_name):\n",
    "    data = {}\n",
    "    \n",
    "    # Open the HDF5 file\n",
    "    with h5py.File(file_name, 'r') as f:\n",
    "        # Recursively extract the groups and datasets into a dictionary\n",
    "        def read_group(group, data_dict):\n",
    "            for key, value in group.items():\n",
    "                if isinstance(value, h5py.Group):\n",
    "                    # If it's a group (nested dictionary), recursively read it\n",
    "                    data_dict[key] = {}\n",
    "                    read_group(value, data_dict[key])\n",
    "                else:\n",
    "                    # If it's a dataset, store it in the dictionary\n",
    "                    data_dict[key] = value[()]\n",
    "        \n",
    "        # Start reading the file from the root group\n",
    "        read_group(f, data)\n",
    "    \n",
    "    return data\n",
    "\n",
    "# Load the HDF5 file into a variable\n",
    "label_matrix = load_dict_from_h5('output.h5')\n"
   ]
  },
  {
   "cell_type": "code",
   "execution_count": 4,
   "id": "e29d8318-90e1-44c5-8733-b61b197872c4",
   "metadata": {},
   "outputs": [],
   "source": [
    "label_map = {}\n",
    "for key in label_matrix:\n",
    "    label_map[key] = {}\n",
    "    for i in range(0, 133):\n",
    "        label_map[key][f'{i}'] = i"
   ]
  },
  {
   "cell_type": "code",
   "execution_count": 5,
   "id": "aafe9d66-4d13-4157-a44d-e7588a55e473",
   "metadata": {},
   "outputs": [
    {
     "data": {
      "text/plain": [
       "dict_keys(['1003to1469', '1005to1143', '1005to1293', '1006to1376', '1033to1119', '1053to1571', '106to721', '1082to1542', '1095to1491', '1105to1126', '1150to1522', '1168to1262', '1169to1317', '1179to1287', '1179to1562', '1184to1409', '118to746', '1230to1538', '1230to1599', '1242to1248', '1255to1525', '1260to1274', '1274to1462', '1280to1492', '1294to1577', '1380to1396', '1383to1407', '13to266', '1462to1500', '1515to1577', '1550to1573', '157to1119', '159to739', '174to643', '188to1002', '1to783', '24to771', '276to330', '281to477', '298to590', '306to1517', '314to596', '320to735', '322to1438', '323to1022', '329to787', '341to701', '356to634', '357to780', '365to1488', '376to625', '397to1127', '468to1595', '470to1359', '515to598', '525to767', '531to1235', '539to714', '547to585', '547to706', '562to581', '567to1244', '56to1291', '572to697', '5to687', '607to1139', '629to794', '63to445', '642to1444', '658to790', '670to708', '72to784', '741to743', '757to796', '800to1128', '810to1212', '813to996', '824to1393', '824to1484', '839to1281', '83to1439', '840to1487', '841to1463', '872to1253', '897to1198', '899to1078', '899to1447', '910to1502', '917to1232', '93to783', '940to1287', '95to1554', '963to1342', '964to1065', '967to1436', '971to1404'])"
      ]
     },
     "execution_count": 5,
     "metadata": {},
     "output_type": "execute_result"
    }
   ],
   "source": [
    "label_matrix.keys()"
   ]
  },
  {
   "cell_type": "code",
   "execution_count": 6,
   "id": "b00050e7-376f-462d-a9cb-4576fd78c83b",
   "metadata": {},
   "outputs": [],
   "source": [
    "def create_final_matrix(label_dict, centroids = 132):\n",
    "    max_t = 0\n",
    "    max_fixed_t = 0\n",
    "    for key in label_dict:\n",
    "        start = int(key.split('to')[0])\n",
    "        end = int(key.split('to')[1])\n",
    "        max_t = max(end, max_t)\n",
    "        max_fixed_t = max(start, max_fixed_t)\n",
    "    dim = (max_t+1)*centroids # Assume we start at 0\n",
    "    print(dim)\n",
    "    final_matrix = np.zeros((dim, dim))\n",
    "    label_map = {}\n",
    "    for key,value in label_dict.items():\n",
    "        start = int(key.split('to')[0])\n",
    "        end = int(key.split('to')[1])\n",
    "        if start not in label_map:\n",
    "            label_map[start] = {}\n",
    "        if end not in label_map:\n",
    "            label_map[end] = {}\n",
    "        start_val = start*centroids\n",
    "        end_val = end*centroids\n",
    "        final_matrix[start_val:start_val+centroids, end_val:end_val+centroids] = value\n",
    "    for timestamp in label_map:\n",
    "        for i in range(0, 133):\n",
    "            label_map[timestamp][i] = i        \n",
    "    return final_matrix, label_map"
   ]
  },
  {
   "cell_type": "code",
   "execution_count": null,
   "id": "e2f49396-6542-4835-93d0-58ebdef0d446",
   "metadata": {},
   "outputs": [],
   "source": [
    "final_matrix, label_map = create_final_matrix(label_matrix)"
   ]
  },
  {
   "cell_type": "code",
   "execution_count": null,
   "id": "62a87f1a-09c3-445c-bc65-6eca97057c2f",
   "metadata": {},
   "outputs": [],
   "source": [
    "final_matrix.shape"
   ]
  },
  {
   "cell_type": "code",
   "execution_count": null,
   "id": "83c599b3-c9fa-459d-90ec-3d955598a9f6",
   "metadata": {},
   "outputs": [],
   "source": [
    "import matplotlib.pyplot as plt\n",
    "#plt.matshow(final_matrix[1000:5000,1000:10000])\n",
    "np.sum(final_matrix>0)\n"
   ]
  },
  {
   "cell_type": "markdown",
   "id": "8e3b7df1-ab82-4bc1-acea-a9e8a73f7f1b",
   "metadata": {},
   "source": [
    "## SparseClustering.jl\n",
    "Recreation of sparse clustering in Python"
   ]
  },
  {
   "cell_type": "code",
   "execution_count": null,
   "id": "535f9824-0add-4b87-a6fa-a597ff15ed1b",
   "metadata": {},
   "outputs": [],
   "source": [
    "#https://github.com/flavell-lab/SparseClustering.jl/blob/main/src/unionfind.jl\n",
    "\n",
    "class UnionFind:\n",
    "    def __init__(self, n):\n",
    "        \"\"\"\n",
    "        Initializes a UnionFind data structure for n elements.\n",
    "\n",
    "        Args:\n",
    "        - n (int): The number of elements.\n",
    "        \"\"\"\n",
    "        self.parent = list(range(n))  # Parent array: Each element points to itself initially.\n",
    "        self.rank = [0] * n  # Rank array: Initialize ranks to 0.\n",
    "\n",
    "    def find(self, x):\n",
    "        \"\"\"\n",
    "        Finds the representative (root) of the subset containing x with path compression.\n",
    "\n",
    "        Args:\n",
    "        - x (int): The element whose representative we want to find.\n",
    "\n",
    "        Returns:\n",
    "        - int: The representative (root) of the subset containing x.\n",
    "        \"\"\"\n",
    "        if self.parent[x] != x:\n",
    "            # Path compression: flatten the structure by pointing directly to the root.\n",
    "            self.parent[x] = self.find(self.parent[x])\n",
    "        return self.parent[x]\n",
    "\n",
    "    def union(self, x, y):\n",
    "        \"\"\"\n",
    "        Merges the subsets containing x and y using union by rank.\n",
    "\n",
    "        Args:\n",
    "        - x (int): The first element to merge.\n",
    "        - y (int): The second element to merge.\n",
    "        \"\"\"\n",
    "        rootX = self.find(x)\n",
    "        rootY = self.find(y)\n",
    "\n",
    "        if rootX != rootY:\n",
    "            # Union by rank: Attach the smaller tree to the root of the larger tree\n",
    "            if self.rank[rootX] > self.rank[rootY]:\n",
    "                self.parent[rootY] = rootX\n",
    "            elif self.rank[rootX] < self.rank[rootY]:\n",
    "                self.parent[rootX] = rootY\n",
    "            else:\n",
    "                # If both have the same rank, attach rootY to rootX and increase rank of rootX\n",
    "                self.parent[rootY] = rootX\n",
    "                self.rank[rootX] += 1\n"
   ]
  },
  {
   "cell_type": "code",
   "execution_count": null,
   "id": "52187bc1-8543-4ebe-a848-952d3a0e7522",
   "metadata": {},
   "outputs": [],
   "source": [
    "# https://github.com/flavell-lab/SparseClustering.jl/blob/main/src/util.jl\n",
    "\n",
    "def sort_distance_matrix(s):\n",
    "    \"\"\"\n",
    "    Sort the non-zero entries of the upper triangular part of a sparse distance matrix\n",
    "    and return the (i, j) indices of these entries sorted by their values.\n",
    "    \n",
    "    Arguments:\n",
    "    - s (scipy.sparse.csr_matrix): A sparse matrix, typically representing a distance matrix.\n",
    "    \n",
    "    Returns:\n",
    "    - List of tuples: A list of (i, j) index tuples sorted by the distance values.\n",
    "    \"\"\"\n",
    "    coo = s.tocoo()\n",
    "    pairs = []\n",
    "    for i, j, value in zip(coo.row, coo.col, coo.data):\n",
    "        if i < j:  # Only consider the upper triangular part (excluding the diagonal)\n",
    "            pairs.append((i, j, value))\n",
    "    \n",
    "    pairs.sort(key=lambda x: x[2])\n",
    "    return [(i, j) for i, j, _ in pairs]\n",
    "\n",
    "\n",
    "def generate_timepoint_map(inv_map, n, max_timept):\n",
    "    \"\"\"\n",
    "    Generate a matrix representing time points where each ROI was detected.\n",
    "    \n",
    "    Arguments:\n",
    "    - inv_map (dict): A dictionary where each key is an ROI, and each value is a set of time points where the ROI was found.\n",
    "    - n (int): Number of ROIs.\n",
    "    - max_timept (int): The maximum number of time points in the dataset.\n",
    "    \n",
    "    Returns:\n",
    "    - numpy.ndarray: A matrix of size n x max_timept. The entry (i, j) is 1 if the i-th ROI was detected at time point j, 0 otherwise.\n",
    "    \"\"\"\n",
    "    timepoint_map = np.zeros((n, max_timept), dtype=int)\n",
    "    \n",
    "    for roi, timepoints in inv_map.items():\n",
    "        for t in timepoints:\n",
    "            timepoint_map[roi, t] = 1\n",
    "    \n",
    "    return timepoint_map\n"
   ]
  },
  {
   "cell_type": "code",
   "execution_count": null,
   "id": "5519078a-05bc-409e-a56d-9326401662ee",
   "metadata": {},
   "outputs": [],
   "source": [
    "# https://github.com/flavell-lab/SparseClustering.jl/blob/main/src/hclust.jl\n",
    "\n",
    "def hclust_minimum_threshold_sparse(ds, inv_map, overlap_threshold, height_threshold, use_sparse=True, pair_match=False):\n",
    "    \"\"\"\n",
    "    Perform hierarchical clustering on a pairwise distance matrix with additional constraints:\n",
    "    - Avoid merging clusters that would cause ROIs from the same time point to be clustered together.\n",
    "    - Stop clustering when the distance exceeds the height threshold.\n",
    "    \n",
    "    Arguments:\n",
    "    - ds (numpy.ndarray or scipy.sparse matrix): Matrix of pairwise distances between ROIs.\n",
    "    - inv_map (dict): Mapping from ROIs to time points.\n",
    "    - overlap_threshold (float): Threshold for ROI overlap in clusters (0 to 1).\n",
    "    - height_threshold (float): Maximum distance for merging ROIs.\n",
    "    - use_sparse (bool): Whether to use sparse matrices for the distance matrix.\n",
    "    - pair_match (bool): Whether to restrict merges to pairs of size at most 2.\n",
    "    \n",
    "    Returns:\n",
    "    - UnionFind: A UnionFind object representing the current clusters.\n",
    "    \"\"\"\n",
    "    # Convert to sparse if needed\n",
    "    if use_sparse:\n",
    "        d = csr_matrix(ds)\n",
    "    else:\n",
    "        d = np.array(ds)\n",
    "\n",
    "    n = d.shape[0]\n",
    "    \n",
    "    # Sort the distance matrix (upper triangle)\n",
    "    sorted_pairs_list = sort_distance_matrix(d)\n",
    "    \n",
    "    # Generate timepoint map\n",
    "    # max_frame = max(max(y for y in timepoints) for timepoints in inv_map.values())\n",
    "    max_frame = max(max(y for y in timepoints) for timepoints in inv_map.values())\n",
    "    timepoint_map = generate_timepoint_map(inv_map, n, max_frame)\n",
    "\n",
    "    # Initialize UnionFind for clustering\n",
    "    curr_cluster_ids = UnionFind(n)\n",
    "\n",
    "    # Initialize merged nodes tracking if pair_match is True\n",
    "    if pair_match:\n",
    "        merged_nodes = [False] * n\n",
    "    \n",
    "    new_tree_frame = np.zeros_like(timepoint_map, dtype=int)\n",
    "\n",
    "    for i, j in sorted_pairs_list:\n",
    "        # If the distance is too high, stop clustering\n",
    "        if d[i, j] > height_threshold:\n",
    "            break\n",
    "\n",
    "        clust_i = curr_cluster_ids.find(i)\n",
    "        clust_j = curr_cluster_ids.find(j)\n",
    "\n",
    "        # Skip if they are already in the same cluster or already merged if pair_match\n",
    "        if clust_i == clust_j or (pair_match and (merged_nodes[i] or merged_nodes[j])):\n",
    "            continue\n",
    "\n",
    "        # Check if the merge is valid under the ROI collision criterion\n",
    "        new_tree_frame[:] = timepoint_map[clust_i, :] + timepoint_map[clust_j, :]\n",
    "        overlaps = np.sum(new_tree_frame > 1)\n",
    "        ratio = overlaps / np.count_nonzero(new_tree_frame > 0)\n",
    "        \n",
    "        if ratio > overlap_threshold:\n",
    "            continue\n",
    "\n",
    "        # Update clusters\n",
    "        curr_cluster_ids.union(clust_i, clust_j)\n",
    "\n",
    "        # Update the timepoint map for the merged clusters\n",
    "        timepoint_map[clust_i, :] = new_tree_frame\n",
    "        timepoint_map[clust_j, :] = new_tree_frame\n",
    "\n",
    "        # If pair_match is True, mark the nodes as merged\n",
    "        if pair_match:\n",
    "            merged_nodes[i] = True\n",
    "            merged_nodes[j] = True\n",
    "\n",
    "    return curr_cluster_ids"
   ]
  },
  {
   "cell_type": "markdown",
   "id": "d578e619-9070-4014-ab96-07c382e08c4e",
   "metadata": {},
   "source": [
    "## ExtractRegisteredData.jl\n",
    "\n",
    "We only need implementation for find_neurons for this: https://github.com/flavell-lab/ExtractRegisteredData.jl/blob/master/src/register_neurons.jl#L2\n"
   ]
  },
  {
   "cell_type": "code",
   "execution_count": null,
   "id": "c6213b6e-1db1-4695-ac39-6ab6c45dc9fa",
   "metadata": {},
   "outputs": [],
   "source": [
    "def invert_label_map(label_map):\n",
    "    inverted_map = defaultdict(lambda: defaultdict(list))  # Nested defaultdict\n",
    "    \n",
    "    # Iterate over the time points and ROIs in the original label_map\n",
    "    for t in label_map:\n",
    "        for roi in label_map[t]:\n",
    "            target_roi = label_map[t][roi]\n",
    "            \n",
    "            # Append the time point `t` to the list of ROIs in the inverted map\n",
    "            inverted_map[target_roi][t].append(roi)\n",
    "    \n",
    "    # Convert defaultdict to a regular dict before returning (optional, for cleaner output)\n",
    "    return dict({key: dict(value) for key, value in inverted_map.items()})"
   ]
  },
  {
   "cell_type": "code",
   "execution_count": null,
   "id": "2d36692f-8899-436b-8b40-9eaa058a6e4b",
   "metadata": {},
   "outputs": [],
   "source": [
    "def update_label_map(label_map, matches):\n",
    "    \"\"\"\n",
    "    Updates ROI label map `label_map` to include ROI matches `matches`, and returns the updated version.\n",
    "\n",
    "    Arguments:\n",
    "    - label_map (dict): A dictionary mapping time points to another dictionary of ROI labels.\n",
    "    - matches (dict): A dictionary that maps original ROI labels to updated ROI labels.\n",
    "\n",
    "    Returns:\n",
    "    - new_label_map (dict): A dictionary mapping time points to updated ROI labels.\n",
    "    \"\"\"\n",
    "    new_label_map = {}\n",
    "    for t in label_map:\n",
    "        new_label_map[t] = {}\n",
    "        for roi in label_map[t]:\n",
    "            new_label_map[t][roi] = matches[label_map[t][roi]]\n",
    "    \n",
    "    return new_label_map\n"
   ]
  },
  {
   "cell_type": "code",
   "execution_count": null,
   "id": "c7d9589b-836d-4bd3-b3df-bc7d7fdd38a0",
   "metadata": {},
   "outputs": [],
   "source": [
    "def find_neurons(regmap_matrix, label_map, overlap_threshold=0.05, height_threshold=-0.0003, dtype=np.float64, pair_match=False):\n",
    "    \"\"\"\n",
    "    Groups ROIs (Regions of Interest) into neurons based on a matrix of pairwise overlaps and a given label map.\n",
    "\n",
    "    Arguments:\n",
    "    - regmap_matrix (np.ndarray): Matrix representing the pairwise overlaps between the ROIs.\n",
    "    - label_map (dict): A dictionary mapping original ROIs to new ROI labels for each time point.\n",
    "    - overlap_threshold (float): A threshold for the fraction of overlapping ROIs from the same time point. Default is 0.05.\n",
    "    - height_threshold (float): The maximum distance or overlap between two ROIs that can be merged. Default is -0.0003.\n",
    "    - dtype (type): The desired data type for internal computations. Default is np.float64.\n",
    "    - pair_match (bool): A flag indicating whether to merge clusters with a maximum size of 2. Default is False.\n",
    "\n",
    "    Returns:\n",
    "    - new_label_map (dict): A dictionary mapping original ROIs to neuron labels for each time point.\n",
    "    - new_inv_map (dict): A dictionary mapping neuron labels back to the original ROIs for each time point.\n",
    "    \"\"\"\n",
    "    # Invert the label map (mapping from ROI to time points)\n",
    "    inv_map = invert_label_map(label_map)\n",
    "\n",
    "    # Invert the regmap matrix for clustering\n",
    "    dist = inv(regmap_matrix)\n",
    "\n",
    "    # Perform hierarchical clustering with a minimum threshold\n",
    "    clusters = hclust_minimum_threshold_sparse(dist, inv_map, overlap_threshold, height_threshold, pair_match=pair_match)\n",
    "\n",
    "    # Create a dictionary for cluster to ROI mapping\n",
    "    # n = len(inv_map)\n",
    "    n_to_c = [find(clusters, i) for i in range(n)]  # Finding the cluster of each ROI\n",
    "\n",
    "    # Update the label map based on the clustering results\n",
    "    new_label_map = update_label_map(label_map, n_to_c)\n",
    "\n",
    "    # Invert the updated label map to get the inverse map\n",
    "    new_inv_map = invert_label_map(new_label_map)\n",
    "\n",
    "    return new_label_map, new_inv_map\n",
    "\n",
    "\n",
    "# Hardcode these parameters\n",
    "def find_neurons_with_params(regmap_matrix, label_map, overlap_threshold=0.5, height_threshold=1):\n",
    "    \"\"\"\n",
    "    Groups ROIs into neurons based on a matrix of pairwise overlaps and a given label map, using parameters from a dictionary.\n",
    "\n",
    "    Arguments:\n",
    "    - regmap_matrix (np.ndarray): Matrix of pairwise overlaps between the ROIs.\n",
    "    - label_map (dict): Dictionary of dictionaries mapping original ROIs to new ROI labels, for each time point.\n",
    "    - param (dict): Dictionary containing `cluster_overlap_thresh` and `cluster_height_thresh` parameter settings to use for clustering.\n",
    "\n",
    "    Returns:\n",
    "    - new_label_map (dict): Dictionary of dictionaries mapping original ROIs to neuron labels, for each time point.\n",
    "    - inv_map (dict): Dictionary of dictionaries mapping time points to original ROIs, for each neuron label.\n",
    "    \"\"\"\n",
    "    return find_neurons(regmap_matrix, label_map,\n",
    "                        overlap_threshold=overlap_threshold,\n",
    "                        height_threshold=height_threshold)\n"
   ]
  },
  {
   "cell_type": "code",
   "execution_count": null,
   "id": "06983c9e-fc12-4899-b214-323a70e22492",
   "metadata": {},
   "outputs": [],
   "source": [
    "new_label_map, new_inv_map = find_neurons_with_params(final_matrix, label_map)"
   ]
  },
  {
   "cell_type": "code",
   "execution_count": null,
   "id": "fd9cae69-9548-40b1-95cc-2e0ae621679c",
   "metadata": {},
   "outputs": [],
   "source": [
    "inv_map = invert_label_map(label_map)"
   ]
  },
  {
   "cell_type": "code",
   "execution_count": null,
   "id": "1b46eea7-feda-491b-96d3-bdf7a8df2876",
   "metadata": {},
   "outputs": [],
   "source": [
    "csr_matrix(final_matrix)"
   ]
  },
  {
   "cell_type": "code",
   "execution_count": null,
   "id": "d7d6a9cf-e303-4b4a-aba7-c165281db1e3",
   "metadata": {},
   "outputs": [],
   "source": [
    "final_matrix.max()"
   ]
  },
  {
   "cell_type": "code",
   "execution_count": 36,
   "id": "5c2f29c0-4f3d-4cbf-b81a-d270505e5f1c",
   "metadata": {},
   "outputs": [],
   "source": [
    "example_matrix=np.zeros((40*5,40*5)) #40 ROIs, 5 time points\n",
    "\n",
    "example_matrix[14,55]=1\n",
    "example_matrix[16,62]=1\n",
    "example_matrix[91,62]=1\n",
    "example_matrix[12,189]=1\n",
    "example_matrix[189,97]=1\n",
    "example_matrix[67,190]=1\n",
    "example_matrix[190,4]=1\n",
    "example_matrix[4,49]=1\n",
    "\n",
    "#expected clusters: [4,49,190,67], [16,62,91], [189,12,97],[14,55]\n",
    "\n",
    "\n",
    "from scipy.spatial.distance import squareform\n",
    "from scipy.cluster.hierarchy import dendrogram, linkage, fcluster\n",
    "import matplotlib.pyplot as plt\n",
    "from collections import defaultdict\n",
    "\n",
    "#def min_link_clustering(similarity_matrix)\n",
    "#condensed_distance_matrix=squareform(example)\n",
    "# Perform hierarchical clustering\n",
    "def min_link_clustering(similarity_matrix, thresh):\n",
    "    similarity_symmetric=similarity_matrix+similarity_matrix.T\n",
    "    distance=similarity_symmetric.max()-similarity_symmetric\n",
    "    np.fill_diagonal(distance, 0)\n",
    "    plt.imshow(distance)\n",
    "    plt.yticks(np.arange(0,201,40))\n",
    "    plt.xticks(np.arange(0,201,40))\n",
    "    plt.colorbar()\n",
    "    plt.show()\n",
    "    Z = linkage(distance, 'single')\n",
    "    \n",
    "    clusters = fcluster(Z, thresh, criterion='distance')\n",
    "    \n",
    "    # Step 5: Group samples by their cluster label\n",
    "    cluster_dict = defaultdict(list)\n",
    "    \n",
    "    # Grouping samples into clusters based on the cluster labels\n",
    "    for sample_idx, cluster_id in enumerate(clusters):\n",
    "        cluster_dict[cluster_id].append(sample_idx)  # sample_idx + 1 for 1-based index\n",
    "    \n",
    "    for cluster_id, members in cluster_dict.items():\n",
    "        print(f\"Cluster {cluster_id}: size: {len(members)}, members: {members}\")\n",
    "    \n",
    "    # Plot the dendrogram\n",
    "    dendrogram(Z,color_threshold=thresh)\n",
    "    plt.xticks([],[])\n",
    "    plt.show()\n",
    "    return Z"
   ]
  },
  {
   "cell_type": "code",
   "execution_count": 24,
   "id": "9b451fa0-7838-4d00-8e04-64c5fdd47343",
   "metadata": {},
   "outputs": [
    {
     "data": {
      "text/plain": [
       "<matplotlib.colorbar.Colorbar at 0x149103d12380>"
      ]
     },
     "execution_count": 24,
     "metadata": {},
     "output_type": "execute_result"
    },
    {
     "data": {
      "image/png": "[encoded data removed]",
      "text/plain": [
       "<Figure size 640x480 with 2 Axes>"
      ]
     },
     "metadata": {},
     "output_type": "display_data"
    }
   ],
   "source": [
    "plt.imshow(example_matrix)\n",
    "plt.yticks(np.arange(0,201,40))\n",
    "plt.xticks(np.arange(0,201,40))\n",
    "plt.colorbar()"
   ]
  },
  {
   "cell_type": "code",
   "execution_count": null,
   "id": "ce26f9d9-77bf-4353-8d9a-4c55b15bdfc7",
   "metadata": {},
   "outputs": [],
   "source": [
    "np.arange(200,4)"
   ]
  },
  {
   "cell_type": "code",
   "execution_count": 18,
   "id": "2510f9a5-e04f-4411-b702-c58fe8b6fa07",
   "metadata": {},
   "outputs": [
    {
     "data": {
      "text/plain": [
       "array([  0.,  50., 100., 150., 200.])"
      ]
     },
     "execution_count": 18,
     "metadata": {},
     "output_type": "execute_result"
    }
   ],
   "source": [
    "np.linspace(0,200,5)"
   ]
  },
  {
   "cell_type": "code",
   "execution_count": 38,
   "id": "f12f5028-a1a8-453a-96ec-5c282efd77e9",
   "metadata": {},
   "outputs": [
    {
     "data": {
      "image/png": "[encoded data removed]",
      "text/plain": [
       "<Figure size 640x480 with 2 Axes>"
      ]
     },
     "metadata": {},
     "output_type": "display_data"
    },
    {
     "name": "stderr",
     "output_type": "stream",
     "text": [
      "/state/partition1/job-54426488/ipykernel_133065/1727469668.py:32: ClusterWarning: The symmetric non-negative hollow observation matrix looks suspiciously like an uncondensed distance matrix\n",
      "  Z = linkage(distance, 'single')\n"
     ]
    },
    {
     "name": "stdout",
     "output_type": "stream",
     "text": [
      "Cluster 5: size: 188, members: [0, 1, 2, 3, 5, 6, 7, 8, 9, 10, 11, 13, 15, 17, 18, 19, 20, 21, 22, 23, 24, 25, 26, 27, 28, 29, 30, 31, 32, 33, 34, 35, 36, 37, 38, 39, 40, 41, 42, 43, 44, 45, 46, 47, 48, 50, 51, 52, 53, 54, 56, 57, 58, 59, 60, 61, 63, 64, 65, 66, 68, 69, 70, 71, 72, 73, 74, 75, 76, 77, 78, 79, 80, 81, 82, 83, 84, 85, 86, 87, 88, 89, 90, 92, 93, 94, 95, 96, 98, 99, 100, 101, 102, 103, 104, 105, 106, 107, 108, 109, 110, 111, 112, 113, 114, 115, 116, 117, 118, 119, 120, 121, 122, 123, 124, 125, 126, 127, 128, 129, 130, 131, 132, 133, 134, 135, 136, 137, 138, 139, 140, 141, 142, 143, 144, 145, 146, 147, 148, 149, 150, 151, 152, 153, 154, 155, 156, 157, 158, 159, 160, 161, 162, 163, 164, 165, 166, 167, 168, 169, 170, 171, 172, 173, 174, 175, 176, 177, 178, 179, 180, 181, 182, 183, 184, 185, 186, 187, 188, 191, 192, 193, 194, 195, 196, 197, 198, 199]\n",
      "Cluster 1: size: 4, members: [4, 49, 67, 190]\n",
      "Cluster 4: size: 3, members: [12, 97, 189]\n",
      "Cluster 3: size: 2, members: [14, 55]\n",
      "Cluster 2: size: 3, members: [16, 62, 91]\n"
     ]
    },
    {
     "data": {
      "image/png": "[encoded data removed]",
      "text/plain": [
       "<Figure size 640x480 with 1 Axes>"
      ]
     },
     "metadata": {},
     "output_type": "display_data"
    }
   ],
   "source": [
    "Z_example=min_link_clustering(example_matrix, 1.5)"
   ]
  },
  {
   "cell_type": "code",
   "execution_count": null,
   "id": "24cf0d3f-7255-4e01-96e2-502b46dd6361",
   "metadata": {},
   "outputs": [],
   "source": [
    "Z = min_link_clustering(final_matrix, 1.5)"
   ]
  }
 ],
 "metadata": {
  "kernelspec": {
   "display_name": "julia_works",
   "language": "python",
   "name": "julia_works"
  },
  "language_info": {
   "codemirror_mode": {
    "name": "ipython",
    "version": 3
   },
   "file_extension": ".py",
   "mimetype": "text/x-python",
   "name": "python",
   "nbconvert_exporter": "python",
   "pygments_lexer": "ipython3",
   "version": "3.10.15"
  }
 },
 "nbformat": 4,
 "nbformat_minor": 5
}
